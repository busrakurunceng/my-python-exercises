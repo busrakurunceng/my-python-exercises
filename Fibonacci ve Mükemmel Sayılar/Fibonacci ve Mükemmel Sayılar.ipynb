{
 "cells": [
  {
   "cell_type": "markdown",
   "id": "2382c4d9",
   "metadata": {},
   "source": [
    "# Soru 1\n",
    "## Fibonacci Dizisi"
   ]
  },
  {
   "cell_type": "markdown",
   "id": "87dcb45f",
   "metadata": {},
   "source": [
    "### Fibonacci Dizisi Nedir \n",
    "Fibonacci Dizisinde her sayı, kendinden önceki sayıların toplanarak hesaplanır. Dizi temelde 1 sayısından başlar. Başlangıç sayısı bir kez daha tekrar edildikten sonra sonraki sayılar önceki 2 sayının toplamı ile oluşturulur."
   ]
  },
  {
   "cell_type": "markdown",
   "id": "bd6f5429",
   "metadata": {},
   "source": [
    "<img src=\"Fibonacci_sayi.jpg\"  width=\"400\" height=\"300\"/>"
   ]
  },
  {
   "cell_type": "markdown",
   "id": "e18d11af",
   "metadata": {},
   "source": [
    "<img src=\"altın oran.png\"  width=\"400\" height=\"500\"/>\n"
   ]
  },
  {
   "cell_type": "code",
   "execution_count": 102,
   "id": "d60cbb6a",
   "metadata": {},
   "outputs": [],
   "source": [
    "def fibonacci_list(end, start=0):\n",
    "    \n",
    "    fib_list = [] # Fibonacci serisinin saklanacağı boş bir liste oluşturuyoruz. Fonksiyonun sonunda bu listeyi çağıracağız.\n",
    "    \n",
    "    a, b = start, max(start, 1)  # dizinin ilk iki sayısı\n",
    "    \n",
    "    while a <= end: # Dışarıdan girilen bitiş sayısına kadar while döngüsüyle devam ediyoruz.\n",
    "        \n",
    "        fib_list.append(a) # Şu anki sayıyı listeye ekliyoruz.\n",
    "        a, b = b, a + b\n",
    "        print(\"Kontrol \",fib_list)\n",
    "        \n",
    "    return fib_list # oluşturulan fibonacci listesi döndürülür\n"
   ]
  },
  {
   "cell_type": "markdown",
   "id": "82accd65",
   "metadata": {},
   "source": [
    "#### Psuedocode:\n",
    "1. İlk olarak __fibonacci_list__ adında parametreli bir fonksiyon tanımlanır.Fonksiyon iki parametre alır: __end__ ve __start__ \n",
    "2. fibonacci_numbers adında bir liste oluşturulur ve bu listeye start değeri eklenir.\n",
    "3. Eğer start değeri 0 ise, Fibonacci dizisinin ikinci elemanı olan 1 de fib_list listesine eklenir. Eğer start değeri 0 değilse, start değeri tekrar fib_list listesine eklenir.\n",
    "4. while döngüsü fib_list listesinin son elemanı end değerine __eşit veya daha büyük__ olana kadar çalışır.\n",
    "5. Her turda, __son iki elemanın toplamı__ fib_list listesine eklenir.\n",
    "6. Son olarak, hesaplanan Fibonacci dizisi fib_list listesi olarak __döndürülür__."
   ]
  },
  {
   "cell_type": "code",
   "execution_count": 97,
   "id": "d10b215b",
   "metadata": {},
   "outputs": [
    {
     "name": "stdout",
     "output_type": "stream",
     "text": [
      "Kontrol  [0]\n",
      "Kontrol  [0, 1]\n",
      "Kontrol  [0, 1, 1]\n",
      "Kontrol  [0, 1, 1, 2]\n",
      "Kontrol  [0, 1, 1, 2, 3]\n",
      "Kontrol  [0, 1, 1, 2, 3, 5]\n",
      "Kontrol  [0, 1, 1, 2, 3, 5, 8]\n",
      "Kontrol  [0, 1, 1, 2, 3, 5, 8, 13]\n",
      "Kontrol  [0, 1, 1, 2, 3, 5, 8, 13, 21]\n"
     ]
    },
    {
     "data": {
      "text/plain": [
       "[0, 1, 1, 2, 3, 5, 8, 13, 21]"
      ]
     },
     "execution_count": 97,
     "metadata": {},
     "output_type": "execute_result"
    }
   ],
   "source": [
    "fibonacci_list(32)"
   ]
  },
  {
   "cell_type": "code",
   "execution_count": 98,
   "id": "52b18dbd",
   "metadata": {},
   "outputs": [
    {
     "data": {
      "text/plain": [
       "34"
      ]
     },
     "execution_count": 98,
     "metadata": {},
     "output_type": "execute_result"
    }
   ],
   "source": [
    "21+13"
   ]
  },
  {
   "cell_type": "code",
   "execution_count": 103,
   "id": "8fa447ad",
   "metadata": {},
   "outputs": [
    {
     "name": "stdout",
     "output_type": "stream",
     "text": [
      "Kontrol  [0]\n",
      "Kontrol  [0, 1]\n",
      "Kontrol  [0, 1, 1]\n",
      "Kontrol  [0, 1, 1, 2]\n",
      "Kontrol  [0, 1, 1, 2, 3]\n",
      "Kontrol  [0, 1, 1, 2, 3, 5]\n",
      "Kontrol  [0, 1, 1, 2, 3, 5, 8]\n",
      "Kontrol  [0, 1, 1, 2, 3, 5, 8, 13]\n",
      "Kontrol  [0, 1, 1, 2, 3, 5, 8, 13, 21]\n",
      "Kontrol  [0, 1, 1, 2, 3, 5, 8, 13, 21, 34]\n",
      "Kontrol  [0, 1, 1, 2, 3, 5, 8, 13, 21, 34, 55]\n",
      "Kontrol  [0, 1, 1, 2, 3, 5, 8, 13, 21, 34, 55, 89]\n",
      "Kontrol  [0, 1, 1, 2, 3, 5, 8, 13, 21, 34, 55, 89, 144]\n"
     ]
    },
    {
     "data": {
      "text/plain": [
       "[0, 1, 1, 2, 3, 5, 8, 13, 21, 34, 55, 89, 144]"
      ]
     },
     "execution_count": 103,
     "metadata": {},
     "output_type": "execute_result"
    }
   ],
   "source": [
    "fibonacci_list(150)"
   ]
  },
  {
   "cell_type": "code",
   "execution_count": 104,
   "id": "22edb99d",
   "metadata": {},
   "outputs": [
    {
     "name": "stdout",
     "output_type": "stream",
     "text": [
      "Kontrol  [13]\n",
      "Kontrol  [13, 13]\n",
      "Kontrol  [13, 13, 26]\n",
      "Kontrol  [13, 13, 26, 39]\n",
      "Kontrol  [13, 13, 26, 39, 65]\n",
      "Kontrol  [13, 13, 26, 39, 65, 104]\n",
      "Kontrol  [13, 13, 26, 39, 65, 104, 169]\n",
      "Kontrol  [13, 13, 26, 39, 65, 104, 169, 273]\n",
      "Kontrol  [13, 13, 26, 39, 65, 104, 169, 273, 442]\n"
     ]
    },
    {
     "data": {
      "text/plain": [
       "[13, 13, 26, 39, 65, 104, 169, 273, 442]"
      ]
     },
     "execution_count": 104,
     "metadata": {},
     "output_type": "execute_result"
    }
   ],
   "source": [
    "fibonacci_list(500,13)"
   ]
  },
  {
   "cell_type": "code",
   "execution_count": 105,
   "id": "93b67215",
   "metadata": {},
   "outputs": [
    {
     "name": "stdout",
     "output_type": "stream",
     "text": [
      "Kontrol  [4]\n",
      "Kontrol  [4, 4]\n",
      "Kontrol  [4, 4, 8]\n",
      "Kontrol  [4, 4, 8, 12]\n",
      "Kontrol  [4, 4, 8, 12, 20]\n",
      "Kontrol  [4, 4, 8, 12, 20, 32]\n",
      "Kontrol  [4, 4, 8, 12, 20, 32, 52]\n",
      "Kontrol  [4, 4, 8, 12, 20, 32, 52, 84]\n",
      "Kontrol  [4, 4, 8, 12, 20, 32, 52, 84, 136]\n"
     ]
    },
    {
     "data": {
      "text/plain": [
       "[4, 4, 8, 12, 20, 32, 52, 84, 136]"
      ]
     },
     "execution_count": 105,
     "metadata": {},
     "output_type": "execute_result"
    }
   ],
   "source": [
    "fibonacci_list(200,4)"
   ]
  },
  {
   "cell_type": "markdown",
   "id": "f8a38319",
   "metadata": {},
   "source": [
    "# Soru 2\n",
    "## Mükemmel Sayı"
   ]
  },
  {
   "cell_type": "markdown",
   "id": "5738bae2",
   "metadata": {},
   "source": [
    "Mükemmel sayı, sayılar teorisinde, kendisi hariç pozitif tam bölenlerinin toplamı kendisine \n",
    "eşit olan sayıdır. Diğer bir ifadeyle, bir mükemmel sayı, bütün pozitif tam bölenlerinin \n",
    "toplamının yarısına eşittir.\n",
    "\n",
    "En küçük mükemmel sayı __6__’dır; çünkü 6 = 1 + 2 + 3; yani tüm öz çarpanlarının toplamıdır. \n",
    "\n",
    "Bir sonraki mükemmel sayımız __28__’dir: 1+2+4+7+14 = 28\n",
    "\n",
    "Bir örnek daha vermek gerekirse __496__ sayısı da mükemmel sayıdır.\n",
    "1+2+4+8+16+31+62+124+248 = 496 'dır."
   ]
  },
  {
   "cell_type": "code",
   "execution_count": 106,
   "id": "1cd9b7d7",
   "metadata": {},
   "outputs": [],
   "source": [
    "#girilen sayının mükemmel olup olmadığının ispatı ve çarpanlarının yazılması\n",
    "\n",
    "def mukemmel_sayi(sayi): \n",
    "    \n",
    "    toplam=0 #başlangıçta toplam değeri 0 olarak atanır.\n",
    "    \n",
    "    print(\"***\",sayi,\"sayısının çarpanları***\")\n",
    "    for i in range(1,sayi): #range fonksiyonuyla sayının kendisine kadar olan tüm sayılar listelenir\n",
    "        if(sayi%i == 0):\n",
    "            toplam +=i\n",
    "            print(i)\n",
    "            \n",
    "    #toplamın girilen sayıya eşit olup olmama durumu kontrol edilir \n",
    "    if(sayi == toplam):  #eşitse mükemmel sayıdır\n",
    "        print(\"Toplam\" , toplam)\n",
    "        print(sayi, \" Mükemmel sayıdır.\")\n",
    "        \n",
    "    else: #eşit değilse mükemmel sayı değildir.\n",
    "        print(\"Toplam\" , toplam)\n",
    "        print(sayi, \"Mükemmel sayı değildir\")\n",
    "            "
   ]
  },
  {
   "cell_type": "markdown",
   "id": "e22cdc6e",
   "metadata": {},
   "source": [
    "#### Psuedocode:\n",
    "1. Fonksiyon tanımlanır ve sayı parametresi alır.\n",
    "2. Toplam değişkenine başlangıçta __0__ değeri atanır.\n",
    "3. Bir for döngüsüyle 1'den sayıya kadar sayıların her biri kontrol edilir.\n",
    "4. Her bir sayı, __sayının kendisine tam olarak bölündüğünde__, bir tam bölenidir. Bu tam bölenlerin toplamı __toplam__ değişkenine eklenir.\n",
    "5. Eğer sayı, toplam değişkenine eşitse, sayı __mükemmel sayıdır__. Bu durumda, fonksiyon mükemmel sayı olduğunu belirten bir mesaj ve toplam değerini ekrana yazdırır.\n",
    "6. Eğer sayı, toplam değişkenine eşit değilse, sayı mükemmel sayı değildir. Bu durumda, fonksiyon mükemmel sayı olmadığını belirten bir mesaj ve toplam değerini ekrana yazdırır."
   ]
  },
  {
   "cell_type": "code",
   "execution_count": 107,
   "id": "461773ab",
   "metadata": {},
   "outputs": [
    {
     "name": "stdout",
     "output_type": "stream",
     "text": [
      "*** 120 sayısının çarpanları***\n",
      "1\n",
      "2\n",
      "3\n",
      "4\n",
      "5\n",
      "6\n",
      "8\n",
      "10\n",
      "12\n",
      "15\n",
      "20\n",
      "24\n",
      "30\n",
      "40\n",
      "60\n",
      "Toplam 240\n",
      "120 Mükemmel sayı değildir\n"
     ]
    }
   ],
   "source": [
    "mukemmel_sayi(120)"
   ]
  },
  {
   "cell_type": "code",
   "execution_count": 108,
   "id": "32f6a884",
   "metadata": {},
   "outputs": [
    {
     "name": "stdout",
     "output_type": "stream",
     "text": [
      "*** 55 sayısının çarpanları***\n",
      "1\n",
      "5\n",
      "11\n",
      "Toplam 17\n",
      "55 Mükemmel sayı değildir\n"
     ]
    }
   ],
   "source": [
    "mukemmel_sayi(55)"
   ]
  },
  {
   "cell_type": "code",
   "execution_count": 109,
   "id": "ffcd913b",
   "metadata": {},
   "outputs": [
    {
     "name": "stdout",
     "output_type": "stream",
     "text": [
      "*** 28 sayısının çarpanları***\n",
      "1\n",
      "2\n",
      "4\n",
      "7\n",
      "14\n",
      "Toplam 28\n",
      "28  Mükemmel sayıdır.\n"
     ]
    }
   ],
   "source": [
    "mukemmel_sayi(28)"
   ]
  },
  {
   "cell_type": "code",
   "execution_count": 110,
   "id": "6afed750",
   "metadata": {
    "scrolled": true
   },
   "outputs": [
    {
     "name": "stdout",
     "output_type": "stream",
     "text": [
      "*** 496 sayısının çarpanları***\n",
      "1\n",
      "2\n",
      "4\n",
      "8\n",
      "16\n",
      "31\n",
      "62\n",
      "124\n",
      "248\n",
      "Toplam 496\n",
      "496  Mükemmel sayıdır.\n"
     ]
    }
   ],
   "source": [
    "mukemmel_sayi(496)"
   ]
  },
  {
   "cell_type": "code",
   "execution_count": 89,
   "id": "cf8e377e",
   "metadata": {},
   "outputs": [
    {
     "name": "stdout",
     "output_type": "stream",
     "text": [
      "*** 20 sayısının çarpanları***\n",
      "1\n",
      "2\n",
      "4\n",
      "5\n",
      "10\n",
      "Toplam 22\n",
      "20 Mükemmel sayı değildir\n"
     ]
    }
   ],
   "source": [
    "mukemmel_sayi(20)"
   ]
  },
  {
   "cell_type": "code",
   "execution_count": 90,
   "id": "13db17a3",
   "metadata": {},
   "outputs": [],
   "source": [
    "#girilen sayıya kadar olan mükemmel sayıların listede tutulması\n",
    "\n",
    "def mukemmel_sayilar(sayi):\n",
    "    \n",
    "    mukemmel_sayilar_listesi = [] #başlangıçta boş bir liste tanımlıyorum.\n",
    "    \n",
    "    for i in range(1, sayi+1):\n",
    "        toplam = 0 #başlangıçta toplam değerine 0 atadım\n",
    "        for j in range(1, i):\n",
    "            if(i % j == 0):\n",
    "                toplam += j\n",
    "            \n",
    "        if (i == toplam): #mükemmel sayı kontrolü\n",
    "            mukemmel_sayilar_listesi.append(i) \n",
    "            \n",
    "    return mukemmel_sayilar_listesi\n",
    "\n"
   ]
  },
  {
   "cell_type": "code",
   "execution_count": 111,
   "id": "e0d2f0a7",
   "metadata": {},
   "outputs": [
    {
     "data": {
      "text/plain": [
       "[6, 28]"
      ]
     },
     "execution_count": 111,
     "metadata": {},
     "output_type": "execute_result"
    }
   ],
   "source": [
    "mukemmel_sayilar(35)"
   ]
  },
  {
   "cell_type": "code",
   "execution_count": 112,
   "id": "c2769d8d",
   "metadata": {},
   "outputs": [
    {
     "data": {
      "text/plain": [
       "[6, 28, 496]"
      ]
     },
     "execution_count": 112,
     "metadata": {},
     "output_type": "execute_result"
    }
   ],
   "source": [
    "mukemmel_sayilar(5000)"
   ]
  },
  {
   "cell_type": "code",
   "execution_count": 113,
   "id": "f7d4574f",
   "metadata": {},
   "outputs": [
    {
     "data": {
      "text/plain": [
       "[6, 28]"
      ]
     },
     "execution_count": 113,
     "metadata": {},
     "output_type": "execute_result"
    }
   ],
   "source": [
    "mukemmel_sayilar(28)"
   ]
  },
  {
   "cell_type": "code",
   "execution_count": null,
   "id": "37ebf11b",
   "metadata": {},
   "outputs": [],
   "source": []
  }
 ],
 "metadata": {
  "kernelspec": {
   "display_name": "Python 3 (ipykernel)",
   "language": "python",
   "name": "python3"
  },
  "language_info": {
   "codemirror_mode": {
    "name": "ipython",
    "version": 3
   },
   "file_extension": ".py",
   "mimetype": "text/x-python",
   "name": "python",
   "nbconvert_exporter": "python",
   "pygments_lexer": "ipython3",
   "version": "3.9.12"
  }
 },
 "nbformat": 4,
 "nbformat_minor": 5
}
