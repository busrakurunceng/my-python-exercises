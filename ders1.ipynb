{
 "cells": [
  {
   "cell_type": "code",
   "execution_count": 2,
   "id": "31b76ddc",
   "metadata": {},
   "outputs": [
    {
     "name": "stdout",
     "output_type": "stream",
     "text": [
      "hello\n"
     ]
    }
   ],
   "source": [
    "print(\"hello\")"
   ]
  },
  {
   "cell_type": "code",
   "execution_count": 4,
   "id": "75fba2f9",
   "metadata": {},
   "outputs": [
    {
     "ename": "IndentationError",
     "evalue": "unexpected indent (4293065530.py, line 2)",
     "output_type": "error",
     "traceback": [
      "\u001b[1;36m  Input \u001b[1;32mIn [4]\u001b[1;36m\u001b[0m\n\u001b[1;33m    print(\"hello\")\u001b[0m\n\u001b[1;37m    ^\u001b[0m\n\u001b[1;31mIndentationError\u001b[0m\u001b[1;31m:\u001b[0m unexpected indent\n"
     ]
    }
   ],
   "source": [
    "print(\"hello\")\n",
    "     print(\"hello\")"
   ]
  },
  {
   "cell_type": "code",
   "execution_count": null,
   "id": "780de024",
   "metadata": {},
   "outputs": [],
   "source": [
    "print()"
   ]
  },
  {
   "cell_type": "markdown",
   "id": "3efe8c79",
   "metadata": {},
   "source": [
    "shift ve tab a basınca bilgi veriyor. --> Docsting"
   ]
  },
  {
   "cell_type": "markdown",
   "id": "2b8c6aa7",
   "metadata": {},
   "source": [
    "text str\n",
    "\n",
    "numeric int, float , complex\n",
    "\n",
    "seuence list, tuple, range\n",
    "\n",
    "mapping dict\n",
    "\n",
    "set types: set, frozenset\n",
    "\n",
    "boolen: bool"
   ]
  },
  {
   "cell_type": "code",
   "execution_count": 6,
   "id": "bc3d23a3",
   "metadata": {},
   "outputs": [
    {
     "data": {
      "text/plain": [
       "19"
      ]
     },
     "execution_count": 6,
     "metadata": {},
     "output_type": "execute_result"
    }
   ],
   "source": [
    "cumle=\"veri bilimi eğitimi\"\n",
    "len(cumle)"
   ]
  },
  {
   "cell_type": "code",
   "execution_count": 7,
   "id": "d8297234",
   "metadata": {},
   "outputs": [
    {
     "data": {
      "text/plain": [
       "'VERI BILIMI EĞITIMI'"
      ]
     },
     "execution_count": 7,
     "metadata": {},
     "output_type": "execute_result"
    }
   ],
   "source": [
    "cumle.upper()"
   ]
  },
  {
   "cell_type": "code",
   "execution_count": 9,
   "id": "32a7153d",
   "metadata": {},
   "outputs": [
    {
     "data": {
      "text/plain": [
       "'veri bilimi eğitimi'"
      ]
     },
     "execution_count": 9,
     "metadata": {},
     "output_type": "execute_result"
    }
   ],
   "source": [
    "cumle.lower()"
   ]
  },
  {
   "cell_type": "code",
   "execution_count": 10,
   "id": "08915f6f",
   "metadata": {},
   "outputs": [
    {
     "data": {
      "text/plain": [
       "'Veri bilimi eğitimi'"
      ]
     },
     "execution_count": 10,
     "metadata": {},
     "output_type": "execute_result"
    }
   ],
   "source": [
    "cumle.capitalize()"
   ]
  },
  {
   "cell_type": "code",
   "execution_count": 11,
   "id": "83c911bf",
   "metadata": {},
   "outputs": [
    {
     "data": {
      "text/plain": [
       "False"
      ]
     },
     "execution_count": 11,
     "metadata": {},
     "output_type": "execute_result"
    }
   ],
   "source": [
    "degisken1=True\n",
    "degisken2=False\n",
    "\n",
    "degisken1 == degisken2"
   ]
  },
  {
   "cell_type": "code",
   "execution_count": 12,
   "id": "f2ed3a53",
   "metadata": {},
   "outputs": [
    {
     "data": {
      "text/plain": [
       "True"
      ]
     },
     "execution_count": 12,
     "metadata": {},
     "output_type": "execute_result"
    }
   ],
   "source": [
    "degisken1 != degisken2"
   ]
  },
  {
   "cell_type": "code",
   "execution_count": 13,
   "id": "3e883b65",
   "metadata": {},
   "outputs": [
    {
     "data": {
      "text/plain": [
       "True"
      ]
     },
     "execution_count": 13,
     "metadata": {},
     "output_type": "execute_result"
    }
   ],
   "source": [
    "10>5"
   ]
  },
  {
   "cell_type": "markdown",
   "id": "a678c6bc",
   "metadata": {},
   "source": [
    "## Liste yapısı"
   ]
  },
  {
   "cell_type": "code",
   "execution_count": 15,
   "id": "c34cf101",
   "metadata": {},
   "outputs": [
    {
     "name": "stdout",
     "output_type": "stream",
     "text": [
      "['elma', 25, True, 0, 354.89, False]\n"
     ]
    }
   ],
   "source": [
    "liste = [\"elma\" , 25 , True, 0 , 354.89, False]\n",
    "print(liste)"
   ]
  },
  {
   "cell_type": "code",
   "execution_count": 16,
   "id": "c7ee7a90",
   "metadata": {},
   "outputs": [],
   "source": [
    "# liste[start:stop:step]"
   ]
  },
  {
   "cell_type": "code",
   "execution_count": 18,
   "id": "0974b7c4",
   "metadata": {},
   "outputs": [
    {
     "data": {
      "text/plain": [
       "[25, 0]"
      ]
     },
     "execution_count": 18,
     "metadata": {},
     "output_type": "execute_result"
    }
   ],
   "source": [
    "liste[1:4:2]"
   ]
  },
  {
   "cell_type": "code",
   "execution_count": 21,
   "id": "24be9bfc",
   "metadata": {},
   "outputs": [
    {
     "data": {
      "text/plain": [
       "[25, True, 0]"
      ]
     },
     "execution_count": 21,
     "metadata": {},
     "output_type": "execute_result"
    }
   ],
   "source": [
    "liste[1:4]"
   ]
  },
  {
   "cell_type": "code",
   "execution_count": 22,
   "id": "beb2b8e2",
   "metadata": {},
   "outputs": [
    {
     "data": {
      "text/plain": [
       "['elma', 25, True]"
      ]
     },
     "execution_count": 22,
     "metadata": {},
     "output_type": "execute_result"
    }
   ],
   "source": [
    "liste[:3]"
   ]
  },
  {
   "cell_type": "markdown",
   "id": "7cc89422",
   "metadata": {},
   "source": [
    "append: listenin sonuna elaman ekleme"
   ]
  },
  {
   "cell_type": "code",
   "execution_count": 23,
   "id": "35eb9ac1",
   "metadata": {},
   "outputs": [
    {
     "name": "stdout",
     "output_type": "stream",
     "text": [
      "['elma', 25, True, 0, 354.89, False, 'yeni']\n"
     ]
    }
   ],
   "source": [
    "liste.append(\"yeni\")\n",
    "print(liste)"
   ]
  },
  {
   "cell_type": "markdown",
   "id": "c7e1f04e",
   "metadata": {},
   "source": [
    "insert: indisten sonraki noktaya eleman ekleme"
   ]
  },
  {
   "cell_type": "code",
   "execution_count": 26,
   "id": "2e942ffc",
   "metadata": {},
   "outputs": [
    {
     "name": "stdout",
     "output_type": "stream",
     "text": [
      "['elma', 'yenieleman', 8945, 8945, 25, True, 0, 354.89, False, 'yeni']\n"
     ]
    }
   ],
   "source": [
    "liste.insert(1,\"yenieleman\")\n",
    "print(liste)"
   ]
  },
  {
   "cell_type": "markdown",
   "id": "28bfa30b",
   "metadata": {},
   "source": [
    "remove: girilen elemanı ilk gördüğü yerdekini siler"
   ]
  },
  {
   "cell_type": "code",
   "execution_count": 29,
   "id": "7beabecb",
   "metadata": {},
   "outputs": [
    {
     "name": "stdout",
     "output_type": "stream",
     "text": [
      "['elma', 'yenieleman', 8945, 25, True, 0, 354.89, False, 'yeni']\n"
     ]
    }
   ],
   "source": [
    "liste.remove(8945)\n",
    "print(liste)"
   ]
  },
  {
   "cell_type": "code",
   "execution_count": 30,
   "id": "ed1e5fe2",
   "metadata": {},
   "outputs": [
    {
     "name": "stdout",
     "output_type": "stream",
     "text": [
      "['elma', 'yenieleman', 8945, 25, True, 0, 354.89, False, 'yeni']\n"
     ]
    }
   ],
   "source": [
    "kopya=liste.copy()\n",
    "print(kopya)"
   ]
  },
  {
   "cell_type": "code",
   "execution_count": 31,
   "id": "2125c53c",
   "metadata": {},
   "outputs": [],
   "source": [
    "del kopya[0]"
   ]
  },
  {
   "cell_type": "code",
   "execution_count": 32,
   "id": "b6dcf8a3",
   "metadata": {},
   "outputs": [
    {
     "name": "stdout",
     "output_type": "stream",
     "text": [
      "['yenieleman', 8945, 25, True, 0, 354.89, False, 'yeni']\n"
     ]
    }
   ],
   "source": [
    "print(kopya)"
   ]
  },
  {
   "cell_type": "code",
   "execution_count": 33,
   "id": "dda1c810",
   "metadata": {},
   "outputs": [
    {
     "data": {
      "text/plain": [
       "False"
      ]
     },
     "execution_count": 33,
     "metadata": {},
     "output_type": "execute_result"
    }
   ],
   "source": [
    "kopya is liste"
   ]
  },
  {
   "cell_type": "code",
   "execution_count": 35,
   "id": "03a0c0c2",
   "metadata": {},
   "outputs": [
    {
     "name": "stdout",
     "output_type": "stream",
     "text": [
      "{'marka': 'Ford', 'model': 'Mustang', 'uretim_yili': 1964}\n"
     ]
    }
   ],
   "source": [
    "sözlük = {\n",
    "    \"marka\":\"Ford\",\n",
    "    \"model\":\"Mustang\",\n",
    "    \"uretim_yili\":1964\n",
    "}\n",
    "print(sözlük)"
   ]
  },
  {
   "cell_type": "code",
   "execution_count": 38,
   "id": "dca42f5e",
   "metadata": {},
   "outputs": [
    {
     "name": "stdout",
     "output_type": "stream",
     "text": [
      "{'kid1': {'ad': 'Ali', 'yil': 2007}, 'kid2': {'ad': 'Merve', 'yil': 2003}}\n"
     ]
    }
   ],
   "source": [
    "mykids={\n",
    "    \"kid1\":{\n",
    "        \"ad\": \"Ali\",\n",
    "        \"yil\":2007\n",
    "    },\n",
    "    \"kid2\":{\n",
    "        \"ad\": \"Merve\",\n",
    "        \"yil\":2003\n",
    "    }\n",
    "    \n",
    "}\n",
    "print(mykids)"
   ]
  },
  {
   "cell_type": "markdown",
   "id": "07eb5f3c",
   "metadata": {},
   "source": [
    "### if koşullu ifade"
   ]
  },
  {
   "cell_type": "code",
   "execution_count": 42,
   "id": "09e94c67",
   "metadata": {},
   "outputs": [
    {
     "name": "stdout",
     "output_type": "stream",
     "text": [
      "c b'den büyük\n"
     ]
    }
   ],
   "source": [
    "b,c=200,250\n",
    "if b>c:\n",
    "    print(\"b cden büyüktür\")\n",
    "else :\n",
    "    print(\"c b'den büyük\")\n",
    "    "
   ]
  },
  {
   "cell_type": "code",
   "execution_count": 46,
   "id": "020debf8",
   "metadata": {},
   "outputs": [
    {
     "name": "stdout",
     "output_type": "stream",
     "text": [
      "x 10dan büyüktür\n",
      "x 20 den büyük değildir\n"
     ]
    }
   ],
   "source": [
    "x=15\n",
    "if x>10:\n",
    "    print(\"x 10dan büyüktür\")\n",
    "    \n",
    "    if x>20:\n",
    "        print(\"x 20den büyük\")\n",
    "    \n",
    "    else:\n",
    "        print(\"x 20 den büyük değildir\")"
   ]
  },
  {
   "cell_type": "markdown",
   "id": "fa144f2d",
   "metadata": {},
   "source": [
    "### döngüler: while, for"
   ]
  },
  {
   "cell_type": "code",
   "execution_count": 48,
   "id": "3e030576",
   "metadata": {},
   "outputs": [
    {
     "name": "stdout",
     "output_type": "stream",
     "text": [
      "0\n",
      "1\n",
      "2\n",
      "3\n",
      "4\n",
      "5\n"
     ]
    }
   ],
   "source": [
    "sayac=0\n",
    "while sayac <6:\n",
    "    print(sayac)\n",
    "    sayac+=1"
   ]
  },
  {
   "cell_type": "code",
   "execution_count": 49,
   "id": "b516c993",
   "metadata": {},
   "outputs": [
    {
     "data": {
      "text/plain": [
       "45"
      ]
     },
     "execution_count": 49,
     "metadata": {},
     "output_type": "execute_result"
    }
   ],
   "source": [
    "y = lambda a,b: a+b\n",
    "y(20,25)"
   ]
  },
  {
   "cell_type": "code",
   "execution_count": 57,
   "id": "3196e238",
   "metadata": {},
   "outputs": [],
   "source": [
    "class araba():\n",
    "    def __init__(self,marka,renk,silindir):\n",
    "        self.marka= marka\n",
    "        self.renk =renk\n",
    "        self.silindir=silindir\n"
   ]
  },
  {
   "cell_type": "code",
   "execution_count": 58,
   "id": "b718caab",
   "metadata": {},
   "outputs": [],
   "source": [
    "a=araba(marka=\"bmw\" , renk=\"beyaz\" , silindir=0)"
   ]
  },
  {
   "cell_type": "code",
   "execution_count": 59,
   "id": "597e7f95",
   "metadata": {},
   "outputs": [
    {
     "data": {
      "text/plain": [
       "'bmw'"
      ]
     },
     "execution_count": 59,
     "metadata": {},
     "output_type": "execute_result"
    }
   ],
   "source": [
    "a.marka"
   ]
  },
  {
   "cell_type": "code",
   "execution_count": 61,
   "id": "5a0a7844",
   "metadata": {},
   "outputs": [],
   "source": [
    "class insan():\n",
    "    def __init__ (self, boy , kilo):\n",
    "        self.boy = boy\n",
    "        self.kilo=kilo"
   ]
  },
  {
   "cell_type": "code",
   "execution_count": 62,
   "id": "bd8aa78f",
   "metadata": {},
   "outputs": [
    {
     "name": "stdout",
     "output_type": "stream",
     "text": [
      "178\n"
     ]
    }
   ],
   "source": [
    "murat= insan(boy=178 , kilo=82)\n",
    "print(murat.boy)"
   ]
  },
  {
   "cell_type": "code",
   "execution_count": 63,
   "id": "6cb62343",
   "metadata": {},
   "outputs": [],
   "source": [
    "class ev():\n",
    "    \n",
    "    def __init__(self, metrekare, isitma, odasayisi):\n",
    "        self.metrekare = metrekare\n",
    "        self.isitma=isitma\n",
    "        self.odasayisi=odasayisi\n",
    "        \n",
    "    def dogalgaz_taktir(self):\n",
    "        self.isitma=\"dogalgaz\""
   ]
  },
  {
   "cell_type": "code",
   "execution_count": 64,
   "id": "ca8aefe9",
   "metadata": {},
   "outputs": [],
   "source": [
    "evim = ev(50,\"klima\" , 2)"
   ]
  },
  {
   "cell_type": "code",
   "execution_count": 65,
   "id": "bba74dde",
   "metadata": {},
   "outputs": [
    {
     "name": "stdout",
     "output_type": "stream",
     "text": [
      "evimin isitması klima\n"
     ]
    }
   ],
   "source": [
    "print(\"evimin isitması\" , evim.isitma)"
   ]
  },
  {
   "cell_type": "code",
   "execution_count": 66,
   "id": "32669416",
   "metadata": {},
   "outputs": [
    {
     "name": "stdout",
     "output_type": "stream",
     "text": [
      "artık evimin ısıtması dogalgaz\n"
     ]
    }
   ],
   "source": [
    "evim.dogalgaz_taktir()\n",
    "print(\"artık evimin ısıtması\" , evim.isitma)"
   ]
  },
  {
   "cell_type": "code",
   "execution_count": 99,
   "id": "5b02d2b9",
   "metadata": {},
   "outputs": [],
   "source": [
    "class calisan():\n",
    "    def __init__ (self,isim, maas, departman):\n",
    "        print(\"çalışan sınıfının init fonksiyonu\")\n",
    "        self.isim = isim\n",
    "        self.maas=maas\n",
    "        self.departman=departman\n",
    "        \n",
    "        \n",
    "    def bilgilerigöster(self):\n",
    "        print(\"çalışan sınıfının bilgileri\")\n",
    "        print(\"isim \", self.isim , \" \\nMaas: \" , self.maas , \"\\nDepartman:\" ,self.departman)\n"
   ]
  },
  {
   "cell_type": "code",
   "execution_count": 100,
   "id": "96b20da4",
   "metadata": {},
   "outputs": [],
   "source": [
    "class muhasebeci(calisan):\n",
    "    pass\n",
    "class sekreter(calisan):\n",
    "    pass\n",
    "class mudur(calisan):\n",
    "    pass"
   ]
  },
  {
   "cell_type": "code",
   "execution_count": 101,
   "id": "a2f312ef",
   "metadata": {},
   "outputs": [
    {
     "name": "stdout",
     "output_type": "stream",
     "text": [
      "çalışan sınıfının init fonksiyonu\n"
     ]
    }
   ],
   "source": [
    "muhasebeci1=muhasebeci(\"murat\" , 15000, \"IK\")"
   ]
  },
  {
   "cell_type": "code",
   "execution_count": 102,
   "id": "b564af7e",
   "metadata": {},
   "outputs": [
    {
     "name": "stdout",
     "output_type": "stream",
     "text": [
      "çalışan sınıfının bilgileri\n",
      "isim  murat  \n",
      "Maas:  15000 \n",
      "Departman: IK\n"
     ]
    }
   ],
   "source": [
    "muhasebeci1.bilgilerigöster()"
   ]
  },
  {
   "cell_type": "code",
   "execution_count": null,
   "id": "53dcc518",
   "metadata": {},
   "outputs": [],
   "source": []
  }
 ],
 "metadata": {
  "kernelspec": {
   "display_name": "Python 3 (ipykernel)",
   "language": "python",
   "name": "python3"
  },
  "language_info": {
   "codemirror_mode": {
    "name": "ipython",
    "version": 3
   },
   "file_extension": ".py",
   "mimetype": "text/x-python",
   "name": "python",
   "nbconvert_exporter": "python",
   "pygments_lexer": "ipython3",
   "version": "3.9.12"
  }
 },
 "nbformat": 4,
 "nbformat_minor": 5
}
