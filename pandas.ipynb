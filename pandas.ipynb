{
 "cells": [
  {
   "cell_type": "code",
   "execution_count": 1,
   "id": "46ae7da8",
   "metadata": {},
   "outputs": [],
   "source": [
    "import pandas as pd\n",
    "import numpy as np"
   ]
  },
  {
   "cell_type": "code",
   "execution_count": 3,
   "id": "137944dd",
   "metadata": {},
   "outputs": [],
   "source": [
    "x_maas = pd.Series([2300,2300,2300,2300,3800,4300,900,12000,16000])"
   ]
  },
  {
   "cell_type": "code",
   "execution_count": 4,
   "id": "4b0bdd5a",
   "metadata": {},
   "outputs": [
    {
     "data": {
      "text/plain": [
       "1"
      ]
     },
     "execution_count": 4,
     "metadata": {},
     "output_type": "execute_result"
    }
   ],
   "source": [
    "x_maas.ndim"
   ]
  },
  {
   "cell_type": "code",
   "execution_count": 5,
   "id": "cab2afc5",
   "metadata": {},
   "outputs": [
    {
     "data": {
      "text/plain": [
       "9"
      ]
     },
     "execution_count": 5,
     "metadata": {},
     "output_type": "execute_result"
    }
   ],
   "source": [
    "x_maas.size"
   ]
  },
  {
   "cell_type": "code",
   "execution_count": 6,
   "id": "d870f20f",
   "metadata": {},
   "outputs": [
    {
     "data": {
      "text/plain": [
       "array([ 2300,  2300,  2300,  2300,  3800,  4300,   900, 12000, 16000],\n",
       "      dtype=int64)"
      ]
     },
     "execution_count": 6,
     "metadata": {},
     "output_type": "execute_result"
    }
   ],
   "source": [
    "x_maas.values"
   ]
  },
  {
   "cell_type": "code",
   "execution_count": 8,
   "id": "df67a4f0",
   "metadata": {},
   "outputs": [
    {
     "data": {
      "text/plain": [
       "0    2300\n",
       "1    2300\n",
       "2    2300\n",
       "3    2300\n",
       "4    3800\n",
       "dtype: int64"
      ]
     },
     "execution_count": 8,
     "metadata": {},
     "output_type": "execute_result"
    }
   ],
   "source": [
    "x_maas.head()"
   ]
  },
  {
   "cell_type": "code",
   "execution_count": 10,
   "id": "cf3bb2cc",
   "metadata": {},
   "outputs": [
    {
     "data": {
      "text/plain": [
       "False"
      ]
     },
     "execution_count": 10,
     "metadata": {},
     "output_type": "execute_result"
    }
   ],
   "source": [
    "x_maas.empty"
   ]
  },
  {
   "cell_type": "code",
   "execution_count": 11,
   "id": "f7ad2ae6",
   "metadata": {},
   "outputs": [
    {
     "data": {
      "text/plain": [
       "6      900\n",
       "7    12000\n",
       "8    16000\n",
       "dtype: int64"
      ]
     },
     "execution_count": 11,
     "metadata": {},
     "output_type": "execute_result"
    }
   ],
   "source": [
    "x_maas.tail(3)"
   ]
  },
  {
   "cell_type": "code",
   "execution_count": 12,
   "id": "ce515e13",
   "metadata": {},
   "outputs": [
    {
     "data": {
      "text/plain": [
       "2    2300\n",
       "3    2300\n",
       "4    3800\n",
       "dtype: int64"
      ]
     },
     "execution_count": 12,
     "metadata": {},
     "output_type": "execute_result"
    }
   ],
   "source": [
    "x_maas[2:5]"
   ]
  },
  {
   "cell_type": "code",
   "execution_count": 13,
   "id": "2b3fed45",
   "metadata": {},
   "outputs": [],
   "source": [
    "np_array=np.array([x_maas])"
   ]
  },
  {
   "cell_type": "code",
   "execution_count": 14,
   "id": "3af07a16",
   "metadata": {},
   "outputs": [
    {
     "name": "stdout",
     "output_type": "stream",
     "text": [
      "<class 'numpy.ndarray'>\n"
     ]
    }
   ],
   "source": [
    "print(type(np_array))"
   ]
  },
  {
   "cell_type": "code",
   "execution_count": 15,
   "id": "efd1c2c7",
   "metadata": {},
   "outputs": [
    {
     "name": "stdout",
     "output_type": "stream",
     "text": [
      "[[ 2300  2300  2300  2300  3800  4300   900 12000 16000]]\n"
     ]
    }
   ],
   "source": [
    "print(np_array)"
   ]
  },
  {
   "cell_type": "code",
   "execution_count": 16,
   "id": "0ed27516",
   "metadata": {},
   "outputs": [
    {
     "data": {
      "text/plain": [
       "1     1.0\n",
       "3     5.0\n",
       "5     0.9\n",
       "7    34.0\n",
       "dtype: float64"
      ]
     },
     "execution_count": 16,
     "metadata": {},
     "output_type": "execute_result"
    }
   ],
   "source": [
    "pd.Series([1,5,0.9,34], index=[1,3,5,7])"
   ]
  },
  {
   "cell_type": "code",
   "execution_count": 19,
   "id": "d1d7b053",
   "metadata": {},
   "outputs": [],
   "source": [
    "seri=pd.Series([8,53,0.2,304], index=[\"a\",\"b\",\"c\",\"d\"])"
   ]
  },
  {
   "cell_type": "code",
   "execution_count": 20,
   "id": "ffa7a26c",
   "metadata": {},
   "outputs": [
    {
     "data": {
      "text/plain": [
       "8.0"
      ]
     },
     "execution_count": 20,
     "metadata": {},
     "output_type": "execute_result"
    }
   ],
   "source": [
    "seri[\"a\"]"
   ]
  },
  {
   "cell_type": "code",
   "execution_count": null,
   "id": "b114bed3",
   "metadata": {},
   "outputs": [],
   "source": []
  }
 ],
 "metadata": {
  "kernelspec": {
   "display_name": "Python 3 (ipykernel)",
   "language": "python",
   "name": "python3"
  },
  "language_info": {
   "codemirror_mode": {
    "name": "ipython",
    "version": 3
   },
   "file_extension": ".py",
   "mimetype": "text/x-python",
   "name": "python",
   "nbconvert_exporter": "python",
   "pygments_lexer": "ipython3",
   "version": "3.9.12"
  }
 },
 "nbformat": 4,
 "nbformat_minor": 5
}
