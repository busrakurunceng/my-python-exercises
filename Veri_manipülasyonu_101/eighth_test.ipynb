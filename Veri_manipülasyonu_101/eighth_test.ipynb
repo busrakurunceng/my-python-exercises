{
 "cells": [
  {
   "cell_type": "markdown",
   "id": "8e596074-01f4-4d32-908c-03d03221748c",
   "metadata": {},
   "source": [
    "# Index ile Elemanlara Erişmek\n"
   ]
  },
  {
   "cell_type": "code",
   "execution_count": 1,
   "id": "dd4cb9ca-8e21-48b5-8a32-92b5d23d583e",
   "metadata": {},
   "outputs": [],
   "source": [
    "import numpy as np"
   ]
  },
  {
   "cell_type": "code",
   "execution_count": 3,
   "id": "e2648e21-2103-44d0-88a9-0373e6692ceb",
   "metadata": {},
   "outputs": [
    {
     "data": {
      "text/plain": [
       "array([4, 8, 3, 7, 3, 4, 6, 2, 1, 7])"
      ]
     },
     "execution_count": 3,
     "metadata": {},
     "output_type": "execute_result"
    }
   ],
   "source": [
    "a=np.random.randint(10 , size=10)\n",
    "a"
   ]
  },
  {
   "cell_type": "code",
   "execution_count": 8,
   "id": "73a467b6-c77f-4559-bfad-6343d4b532ba",
   "metadata": {},
   "outputs": [
    {
     "data": {
      "text/plain": [
       "7"
      ]
     },
     "execution_count": 8,
     "metadata": {},
     "output_type": "execute_result"
    }
   ],
   "source": [
    "a[3]"
   ]
  },
  {
   "cell_type": "code",
   "execution_count": 5,
   "id": "984cc13d-7db2-4a23-9397-eef389e7b132",
   "metadata": {},
   "outputs": [
    {
     "data": {
      "text/plain": [
       "array([[0, 2, 6, 0, 0],\n",
       "       [9, 9, 4, 5, 0],\n",
       "       [6, 6, 1, 3, 3]])"
      ]
     },
     "execution_count": 5,
     "metadata": {},
     "output_type": "execute_result"
    }
   ],
   "source": [
    "m=np.random.randint(10 , size=(3,5))\n",
    "m"
   ]
  },
  {
   "cell_type": "code",
   "execution_count": 7,
   "id": "6752f4ef-158c-42e7-947d-b07343f5d8ba",
   "metadata": {},
   "outputs": [
    {
     "data": {
      "text/plain": [
       "9"
      ]
     },
     "execution_count": 7,
     "metadata": {},
     "output_type": "execute_result"
    }
   ],
   "source": [
    "m[1,0]"
   ]
  },
  {
   "cell_type": "markdown",
   "id": "a6e6d825-c0bd-4e94-b64e-b96d6870e656",
   "metadata": {},
   "source": [
    "# Array Alt Küme İşlemleri\n"
   ]
  },
  {
   "cell_type": "code",
   "execution_count": 9,
   "id": "d4d028de-f34c-46bd-809a-b4928be39c1f",
   "metadata": {},
   "outputs": [],
   "source": [
    "import numpy as np"
   ]
  },
  {
   "cell_type": "code",
   "execution_count": 11,
   "id": "db435a54-278c-42ba-8f92-689f485f2390",
   "metadata": {},
   "outputs": [
    {
     "data": {
      "text/plain": [
       "array([ 2,  3,  4,  5,  6,  7,  8,  9, 10, 11, 12, 13, 14, 15, 16, 17, 18,\n",
       "       19, 20, 21, 22, 23, 24, 25, 26, 27, 28, 29])"
      ]
     },
     "execution_count": 11,
     "metadata": {},
     "output_type": "execute_result"
    }
   ],
   "source": [
    "b=np.arange(2,30)\n",
    "b"
   ]
  },
  {
   "cell_type": "code",
   "execution_count": 12,
   "id": "278f27ad-acb2-442b-8462-f2fe20716fe2",
   "metadata": {},
   "outputs": [
    {
     "data": {
      "text/plain": [
       "array([2, 3, 4])"
      ]
     },
     "execution_count": 12,
     "metadata": {},
     "output_type": "execute_result"
    }
   ],
   "source": [
    "b[0:3] # 0'dan 3e kadar olan indesler"
   ]
  },
  {
   "cell_type": "code",
   "execution_count": 13,
   "id": "1530b84c-d513-49d8-8d24-6f8c83a69c29",
   "metadata": {},
   "outputs": [
    {
     "data": {
      "text/plain": [
       "array([ 7,  8,  9, 10, 11, 12, 13, 14, 15, 16, 17, 18, 19, 20, 21, 22, 23,\n",
       "       24, 25, 26, 27, 28, 29])"
      ]
     },
     "execution_count": 13,
     "metadata": {},
     "output_type": "execute_result"
    }
   ],
   "source": [
    "b[5:] #belli bir indesten sona kadar"
   ]
  },
  {
   "cell_type": "code",
   "execution_count": 14,
   "id": "9bd8ebac-224d-49ab-ae6a-eff8b24ef774",
   "metadata": {},
   "outputs": [
    {
     "data": {
      "text/plain": [
       "array([ 3,  5,  7,  9, 11, 13, 15, 17, 19, 21, 23, 25, 27, 29])"
      ]
     },
     "execution_count": 14,
     "metadata": {},
     "output_type": "execute_result"
    }
   ],
   "source": [
    "b[1::2] # 1. elemandan başlayarak 2'şer 2'şer artacak şekilde"
   ]
  },
  {
   "cell_type": "markdown",
   "id": "c7b59a9c-8f81-4659-81e5-080abe741711",
   "metadata": {},
   "source": [
    "## iki boyutlu slice"
   ]
  },
  {
   "cell_type": "code",
   "execution_count": 16,
   "id": "6d4050db-9df4-4783-94e1-16653d505dc9",
   "metadata": {},
   "outputs": [
    {
     "data": {
      "text/plain": [
       "array([[1, 3, 3, 3, 8],\n",
       "       [0, 1, 7, 8, 4],\n",
       "       [9, 8, 7, 1, 1],\n",
       "       [3, 4, 1, 2, 1],\n",
       "       [1, 0, 5, 8, 1]])"
      ]
     },
     "execution_count": 16,
     "metadata": {},
     "output_type": "execute_result"
    }
   ],
   "source": [
    "n=np.random.randint(10 , size = [5,5])\n",
    "n"
   ]
  },
  {
   "cell_type": "code",
   "execution_count": 19,
   "id": "d6cf4948-2aca-4ba4-bdc9-641f6b00e596",
   "metadata": {},
   "outputs": [
    {
     "data": {
      "text/plain": [
       "array([[1, 3, 3, 3, 8],\n",
       "       [0, 1, 7, 8, 4]])"
      ]
     },
     "execution_count": 19,
     "metadata": {},
     "output_type": "execute_result"
    }
   ],
   "source": [
    "n[:2] # 0'dan 2. satıra"
   ]
  },
  {
   "cell_type": "code",
   "execution_count": 20,
   "id": "785a359b-bbe2-473a-9f1d-7d0fdd11f526",
   "metadata": {},
   "outputs": [
    {
     "data": {
      "text/plain": [
       "array([[3, 4, 1, 2, 1],\n",
       "       [1, 0, 5, 8, 1]])"
      ]
     },
     "execution_count": 20,
     "metadata": {},
     "output_type": "execute_result"
    }
   ],
   "source": [
    "n[3:] # 3 sütundan sona kadar"
   ]
  },
  {
   "cell_type": "code",
   "execution_count": 22,
   "id": "3b460578-f3a9-42a2-a514-e62245cd2bc4",
   "metadata": {},
   "outputs": [
    {
     "data": {
      "text/plain": [
       "array([0, 1, 7, 8, 4])"
      ]
     },
     "execution_count": 22,
     "metadata": {},
     "output_type": "execute_result"
    }
   ],
   "source": [
    "n[1,:] # 1.satırda tüm sütunlar"
   ]
  },
  {
   "cell_type": "code",
   "execution_count": 23,
   "id": "e301ee38-fee9-4330-a227-3eca4671928a",
   "metadata": {},
   "outputs": [
    {
     "data": {
      "text/plain": [
       "array([[3, 3],\n",
       "       [1, 7]])"
      ]
     },
     "execution_count": 23,
     "metadata": {},
     "output_type": "execute_result"
    }
   ],
   "source": [
    "n[0:2 , 1:3] # satırda 0dan 2 ye kadar ve sütunda 1den 3e kadar al"
   ]
  },
  {
   "cell_type": "code",
   "execution_count": 27,
   "id": "f9fb498c-6c6d-44ca-8cd4-155399997a22",
   "metadata": {},
   "outputs": [
    {
     "data": {
      "text/plain": [
       "array([[1, 3],\n",
       "       [0, 1],\n",
       "       [9, 8],\n",
       "       [3, 4],\n",
       "       [1, 0]])"
      ]
     },
     "execution_count": 27,
     "metadata": {},
     "output_type": "execute_result"
    }
   ],
   "source": [
    "n[:: , :2] # bütün satırları ve 0dan 3 sütunları al"
   ]
  },
  {
   "cell_type": "code",
   "execution_count": 28,
   "id": "a33404dc-eeb6-44c6-9ef1-7aaf20cc9789",
   "metadata": {},
   "outputs": [
    {
     "data": {
      "text/plain": [
       "array([[1, 3],\n",
       "       [0, 1],\n",
       "       [9, 8],\n",
       "       [3, 4],\n",
       "       [1, 0]])"
      ]
     },
     "execution_count": 28,
     "metadata": {},
     "output_type": "execute_result"
    }
   ],
   "source": [
    "n[: , :2] # bütün satırları ve 0dan 3 sütunları al ## tek : ile de oluyor"
   ]
  },
  {
   "cell_type": "code",
   "execution_count": 31,
   "id": "1e76fa6d-488e-4a8c-93fa-26100faba669",
   "metadata": {},
   "outputs": [
    {
     "data": {
      "text/plain": [
       "array([[0, 1, 7],\n",
       "       [9, 8, 7]])"
      ]
     },
     "execution_count": 31,
     "metadata": {},
     "output_type": "execute_result"
    }
   ],
   "source": [
    "n[1:3 , 0:3]"
   ]
  },
  {
   "cell_type": "code",
   "execution_count": null,
   "id": "c4830443-36e5-46ca-9931-e7f990cc2345",
   "metadata": {},
   "outputs": [],
   "source": []
  }
 ],
 "metadata": {
  "kernelspec": {
   "display_name": "Python 3 (ipykernel)",
   "language": "python",
   "name": "python3"
  },
  "language_info": {
   "codemirror_mode": {
    "name": "ipython",
    "version": 3
   },
   "file_extension": ".py",
   "mimetype": "text/x-python",
   "name": "python",
   "nbconvert_exporter": "python",
   "pygments_lexer": "ipython3",
   "version": "3.9.12"
  }
 },
 "nbformat": 4,
 "nbformat_minor": 5
}
