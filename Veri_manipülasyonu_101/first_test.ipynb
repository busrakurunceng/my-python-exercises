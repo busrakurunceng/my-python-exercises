{
 "cells": [
  {
   "cell_type": "code",
   "execution_count": 1,
   "id": "36bfac42-3b62-40ce-90f6-fdff272545ae",
   "metadata": {},
   "outputs": [
    {
     "name": "stdout",
     "output_type": "stream",
     "text": [
      "a\n"
     ]
    }
   ],
   "source": [
    "print(\"a\")"
   ]
  },
  {
   "cell_type": "markdown",
   "id": "bda0594c-457b-4010-9912-f05e6bdcf51f",
   "metadata": {
    "tags": []
   },
   "source": [
    "# BASLIK"
   ]
  },
  {
   "cell_type": "markdown",
   "id": "8cc736a9-de72-4908-af67-500e66af7499",
   "metadata": {
    "tags": []
   },
   "source": [
    "## ALT BAŞLIK"
   ]
  },
  {
   "cell_type": "code",
   "execution_count": 1,
   "id": "25bcc93d-9a8d-4e12-a14d-dcfbbc8c8fac",
   "metadata": {},
   "outputs": [
    {
     "name": "stdout",
     "output_type": "stream",
     "text": [
      "a\n"
     ]
    }
   ],
   "source": [
    "print(\"a\")"
   ]
  },
  {
   "cell_type": "markdown",
   "id": "99a2ed18-ec37-4eb1-adba-07707c116be6",
   "metadata": {},
   "source": [
    "NumPy --> Numerical Python   ---> vektörel operasyon"
   ]
  },
  {
   "cell_type": "code",
   "execution_count": 3,
   "id": "94a1cc03-8ecc-418f-8a4b-46a7f8b065ac",
   "metadata": {},
   "outputs": [],
   "source": [
    "import numpy as np"
   ]
  },
  {
   "cell_type": "code",
   "execution_count": 5,
   "id": "4ef6f122-7774-4e65-84c3-c99afbfd7c2c",
   "metadata": {},
   "outputs": [],
   "source": [
    "a=np.array([1,2,3,4,5])\n",
    "b=np.array([2,3,4,5,6])"
   ]
  },
  {
   "cell_type": "code",
   "execution_count": 7,
   "id": "18e4d3d9-d6c7-4b07-9133-553b81d2ff77",
   "metadata": {},
   "outputs": [
    {
     "data": {
      "text/plain": [
       "array([ 2,  6, 12, 20, 30])"
      ]
     },
     "execution_count": 7,
     "metadata": {},
     "output_type": "execute_result"
    }
   ],
   "source": [
    "a*b"
   ]
  },
  {
   "cell_type": "code",
   "execution_count": null,
   "id": "47cbec02-0a0e-4292-8668-d50fa81d8f14",
   "metadata": {},
   "outputs": [],
   "source": []
  },
  {
   "cell_type": "code",
   "execution_count": null,
   "id": "c290e123-48d2-46e7-8937-76fd5026947a",
   "metadata": {},
   "outputs": [],
   "source": []
  }
 ],
 "metadata": {
  "kernelspec": {
   "display_name": "Python 3 (ipykernel)",
   "language": "python",
   "name": "python3"
  },
  "language_info": {
   "codemirror_mode": {
    "name": "ipython",
    "version": 3
   },
   "file_extension": ".py",
   "mimetype": "text/x-python",
   "name": "python",
   "nbconvert_exporter": "python",
   "pygments_lexer": "ipython3",
   "version": "3.9.12"
  }
 },
 "nbformat": 4,
 "nbformat_minor": 5
}
