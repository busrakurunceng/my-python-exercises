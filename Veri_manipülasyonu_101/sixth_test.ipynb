{
 "cells": [
  {
   "cell_type": "markdown",
   "id": "f681abad-d31d-489a-881d-46ff096ef386",
   "metadata": {},
   "source": [
    "# splitting (array ayırma)"
   ]
  },
  {
   "cell_type": "code",
   "execution_count": 1,
   "id": "20c70224-4231-464b-96dc-c0f80734df6e",
   "metadata": {},
   "outputs": [],
   "source": [
    "import numpy as np"
   ]
  },
  {
   "cell_type": "code",
   "execution_count": 5,
   "id": "7d82c675-0ff7-4dbd-8117-e18c2e743e9d",
   "metadata": {},
   "outputs": [],
   "source": [
    "x=np.array([1,2,3,99,99,3,2,1])"
   ]
  },
  {
   "cell_type": "code",
   "execution_count": 7,
   "id": "e720fa3a-1373-40db-b1b8-6dec805786d6",
   "metadata": {},
   "outputs": [
    {
     "data": {
      "text/plain": [
       "[array([1, 2, 3]), array([99, 99]), array([3]), array([2, 1])]"
      ]
     },
     "execution_count": 7,
     "metadata": {},
     "output_type": "execute_result"
    }
   ],
   "source": [
    "np.split(x, [3,5,6])"
   ]
  },
  {
   "cell_type": "markdown",
   "id": "be5ccd4e-bff8-4212-a815-8f567fbe1784",
   "metadata": {},
   "source": [
    "3'e kadar 5'e kadar ve 6'ya kadar ayırma yapma"
   ]
  },
  {
   "cell_type": "code",
   "execution_count": 8,
   "id": "68b29dbc-44e7-46a5-a86e-4393a753cb0d",
   "metadata": {},
   "outputs": [],
   "source": [
    "a,b,c,d=np.split(x, [3,5,6])"
   ]
  },
  {
   "cell_type": "code",
   "execution_count": 9,
   "id": "c930eb91-73e0-418d-8109-12097f300896",
   "metadata": {},
   "outputs": [
    {
     "data": {
      "text/plain": [
       "array([1, 2, 3])"
      ]
     },
     "execution_count": 9,
     "metadata": {},
     "output_type": "execute_result"
    }
   ],
   "source": [
    "a"
   ]
  },
  {
   "cell_type": "code",
   "execution_count": 10,
   "id": "c92e5530-0b81-4f89-92b3-d78aba874dc6",
   "metadata": {},
   "outputs": [
    {
     "name": "stdout",
     "output_type": "stream",
     "text": [
      "[1 2 3] [99 99] [3] [2 1]\n"
     ]
    }
   ],
   "source": [
    "print(a , b, c, d)"
   ]
  },
  {
   "cell_type": "markdown",
   "id": "c0655499-31b6-40a0-8243-df1502574c2c",
   "metadata": {},
   "source": [
    "iki boyutlu ayırma"
   ]
  },
  {
   "cell_type": "code",
   "execution_count": 12,
   "id": "8c71b895-3e11-4208-a501-f2df1754a592",
   "metadata": {},
   "outputs": [
    {
     "data": {
      "text/plain": [
       "array([[ 0,  1,  2,  3],\n",
       "       [ 4,  5,  6,  7],\n",
       "       [ 8,  9, 10, 11],\n",
       "       [12, 13, 14, 15]])"
      ]
     },
     "execution_count": 12,
     "metadata": {},
     "output_type": "execute_result"
    }
   ],
   "source": [
    "m=np.arange(16).reshape(4,4)\n",
    "m"
   ]
  },
  {
   "cell_type": "code",
   "execution_count": 16,
   "id": "c18c9241-1ef7-410a-a341-8de572450be0",
   "metadata": {},
   "outputs": [
    {
     "data": {
      "text/plain": [
       "[array([[0, 1, 2, 3],\n",
       "        [4, 5, 6, 7]]),\n",
       " array([[ 8,  9, 10, 11]]),\n",
       " array([[12, 13, 14, 15]])]"
      ]
     },
     "execution_count": 16,
     "metadata": {},
     "output_type": "execute_result"
    }
   ],
   "source": [
    "np.vsplit(m,[2,3]) # 2. elemandan ve 3. elemandan böl"
   ]
  },
  {
   "cell_type": "code",
   "execution_count": 17,
   "id": "b594dfff-7039-4892-bf9d-87e45660bd30",
   "metadata": {},
   "outputs": [],
   "source": [
    "ust,alt=np.vsplit(m,[2]) # 2. elemandan böl ve ikiye ayır"
   ]
  },
  {
   "cell_type": "code",
   "execution_count": 22,
   "id": "04f1e236-b4da-4d2b-9754-c02e626095cf",
   "metadata": {},
   "outputs": [
    {
     "name": "stdout",
     "output_type": "stream",
     "text": [
      "ust-->  [[0 1 2 3]\n",
      " [4 5 6 7]]\n",
      "alt-->  [[ 8  9 10 11]\n",
      " [12 13 14 15]]\n"
     ]
    }
   ],
   "source": [
    "print(\"ust--> \" ,ust)\n",
    "print(\"alt--> \" ,alt)"
   ]
  },
  {
   "cell_type": "code",
   "execution_count": 23,
   "id": "f08fc4bf-85a7-452f-a5e6-e7199ec44edf",
   "metadata": {},
   "outputs": [
    {
     "data": {
      "text/plain": [
       "array([[ 0,  1,  2,  3],\n",
       "       [ 4,  5,  6,  7],\n",
       "       [ 8,  9, 10, 11],\n",
       "       [12, 13, 14, 15]])"
      ]
     },
     "execution_count": 23,
     "metadata": {},
     "output_type": "execute_result"
    }
   ],
   "source": [
    "m"
   ]
  },
  {
   "cell_type": "code",
   "execution_count": 25,
   "id": "41f201e4-feb8-4a48-acf7-f783f5c500b3",
   "metadata": {},
   "outputs": [
    {
     "data": {
      "text/plain": [
       "[array([[ 0,  1],\n",
       "        [ 4,  5],\n",
       "        [ 8,  9],\n",
       "        [12, 13]]),\n",
       " array([[ 2,  3],\n",
       "        [ 6,  7],\n",
       "        [10, 11],\n",
       "        [14, 15]])]"
      ]
     },
     "execution_count": 25,
     "metadata": {},
     "output_type": "execute_result"
    }
   ],
   "source": [
    "np.hsplit(m , [2])"
   ]
  },
  {
   "cell_type": "code",
   "execution_count": 26,
   "id": "c9acc4c8-a78d-43d6-a65d-59ba83948e4d",
   "metadata": {},
   "outputs": [],
   "source": [
    "sol,sag=np.hsplit(m, [2])"
   ]
  },
  {
   "cell_type": "code",
   "execution_count": 28,
   "id": "33317a41-87a4-459c-9c71-4caba316cbbe",
   "metadata": {},
   "outputs": [
    {
     "name": "stdout",
     "output_type": "stream",
     "text": [
      "sol--> /n  [[ 0  1]\n",
      " [ 4  5]\n",
      " [ 8  9]\n",
      " [12 13]]\n",
      "sag-->  [[ 2  3]\n",
      " [ 6  7]\n",
      " [10 11]\n",
      " [14 15]]\n"
     ]
    }
   ],
   "source": [
    "print(\"sol--> \" ,sol)\n",
    "print(\"sag--> \" ,sag)"
   ]
  },
  {
   "cell_type": "code",
   "execution_count": null,
   "id": "b739b29e-5ff7-49a6-8dc9-92d0897e8b46",
   "metadata": {},
   "outputs": [],
   "source": []
  }
 ],
 "metadata": {
  "kernelspec": {
   "display_name": "Python 3 (ipykernel)",
   "language": "python",
   "name": "python3"
  },
  "language_info": {
   "codemirror_mode": {
    "name": "ipython",
    "version": 3
   },
   "file_extension": ".py",
   "mimetype": "text/x-python",
   "name": "python",
   "nbconvert_exporter": "python",
   "pygments_lexer": "ipython3",
   "version": "3.9.12"
  }
 },
 "nbformat": 4,
 "nbformat_minor": 5
}
