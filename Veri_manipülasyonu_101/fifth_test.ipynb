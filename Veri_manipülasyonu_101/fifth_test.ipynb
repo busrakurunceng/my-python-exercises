{
 "cells": [
  {
   "cell_type": "markdown",
   "id": "298d52d2-76a3-495d-9d77-4cf44018815a",
   "metadata": {},
   "source": [
    "# concatenate (birleştirme)"
   ]
  },
  {
   "cell_type": "code",
   "execution_count": 1,
   "id": "e06044fe-ad07-41f2-be12-b1ad29a0be3c",
   "metadata": {},
   "outputs": [],
   "source": [
    "import numpy as np"
   ]
  },
  {
   "cell_type": "code",
   "execution_count": 2,
   "id": "a1f3f27e-c95d-40b9-bbfb-3996f95b546c",
   "metadata": {},
   "outputs": [],
   "source": [
    "x=np.array([1,2,3])\n",
    "y=np.array([4,5,6])"
   ]
  },
  {
   "cell_type": "code",
   "execution_count": 5,
   "id": "5feff4dc",
   "metadata": {},
   "outputs": [
    {
     "data": {
      "text/plain": [
       "array([1, 2, 3, 4, 5, 6])"
      ]
     },
     "execution_count": 5,
     "metadata": {},
     "output_type": "execute_result"
    }
   ],
   "source": [
    "np.concatenate([x,y])"
   ]
  },
  {
   "cell_type": "code",
   "execution_count": 4,
   "id": "9313b5dd-e5c0-4bbd-a767-01708b749467",
   "metadata": {},
   "outputs": [
    {
     "data": {
      "text/plain": [
       "array([[1, 2, 3],\n",
       "       [4, 5, 6]])"
      ]
     },
     "execution_count": 4,
     "metadata": {},
     "output_type": "execute_result"
    }
   ],
   "source": [
    "np.concatenate([[x],[y]])"
   ]
  },
  {
   "cell_type": "code",
   "execution_count": 8,
   "id": "1464f29f-621f-478d-882f-b9fe7e7be2c3",
   "metadata": {},
   "outputs": [],
   "source": [
    "a=np.array([[1,2,3] ,[4,5,6]])"
   ]
  },
  {
   "cell_type": "code",
   "execution_count": 10,
   "id": "b82caa89-37b7-492c-b789-0faa81218e84",
   "metadata": {},
   "outputs": [
    {
     "data": {
      "text/plain": [
       "array([[1, 2, 3],\n",
       "       [4, 5, 6],\n",
       "       [1, 2, 3],\n",
       "       [4, 5, 6]])"
      ]
     },
     "execution_count": 10,
     "metadata": {},
     "output_type": "execute_result"
    }
   ],
   "source": [
    "np.concatenate([a,a]) #birleştirme"
   ]
  },
  {
   "cell_type": "code",
   "execution_count": 11,
   "id": "4a82a33e-d7ca-4b48-b3f7-42ce94d11d81",
   "metadata": {},
   "outputs": [
    {
     "data": {
      "text/plain": [
       "array([[1, 2, 3],\n",
       "       [4, 5, 6],\n",
       "       [1, 2, 3],\n",
       "       [4, 5, 6]])"
      ]
     },
     "execution_count": 11,
     "metadata": {},
     "output_type": "execute_result"
    }
   ],
   "source": [
    "np.concatenate([a,a] , axis=0) #x=0 satır bazında birleştirme"
   ]
  },
  {
   "cell_type": "code",
   "execution_count": 12,
   "id": "d3acd686-4e98-4947-88ba-eb1ed3b76179",
   "metadata": {},
   "outputs": [
    {
     "data": {
      "text/plain": [
       "array([[1, 2, 3, 1, 2, 3],\n",
       "       [4, 5, 6, 4, 5, 6]])"
      ]
     },
     "execution_count": 12,
     "metadata": {},
     "output_type": "execute_result"
    }
   ],
   "source": [
    "np.concatenate([a,a] , axis=1) #y=1 sütün bazında birleştirme"
   ]
  },
  {
   "cell_type": "code",
   "execution_count": null,
   "id": "e41a1833-6ff6-4b7c-b356-b6f85ea7f3ee",
   "metadata": {},
   "outputs": [],
   "source": []
  }
 ],
 "metadata": {
  "kernelspec": {
   "display_name": "Python 3 (ipykernel)",
   "language": "python",
   "name": "python3"
  },
  "language_info": {
   "codemirror_mode": {
    "name": "ipython",
    "version": 3
   },
   "file_extension": ".py",
   "mimetype": "text/x-python",
   "name": "python",
   "nbconvert_exporter": "python",
   "pygments_lexer": "ipython3",
   "version": "3.9.12"
  }
 },
 "nbformat": 4,
 "nbformat_minor": 5
}
