{
 "cells": [
  {
   "cell_type": "code",
   "execution_count": 1,
   "id": "fa43f268-b9bc-40a9-97b2-fa82db9abcbc",
   "metadata": {},
   "outputs": [],
   "source": [
    "import numpy as np"
   ]
  },
  {
   "cell_type": "code",
   "execution_count": null,
   "id": "64e82287",
   "metadata": {},
   "outputs": [],
   "source": []
  },
  {
   "cell_type": "code",
   "execution_count": 7,
   "id": "c6610d92-4d97-489a-9564-4dc5480e6463",
   "metadata": {},
   "outputs": [],
   "source": [
    "a= np.array([1 , 3 , 5 , 3.14 , 8])"
   ]
  },
  {
   "cell_type": "code",
   "execution_count": 8,
   "id": "77973117-b5a2-4ec1-8266-54d23d7dfa60",
   "metadata": {},
   "outputs": [
    {
     "name": "stdout",
     "output_type": "stream",
     "text": [
      "[1.   3.   5.   3.14 8.  ]\n"
     ]
    }
   ],
   "source": [
    "print(a)"
   ]
  },
  {
   "cell_type": "markdown",
   "id": "d50dd9a2-dfcf-4a2a-acc2-9ae490cfbf0b",
   "metadata": {},
   "source": [
    "nump ---> ramde daha az yer kaplar.array'de elemanların hepsini tek bir tipte tuttuğu için float olarak yazdı ekrana"
   ]
  },
  {
   "cell_type": "code",
   "execution_count": 9,
   "id": "7fd3eb2c-530b-41e7-97e5-84584dcf1339",
   "metadata": {},
   "outputs": [
    {
     "data": {
      "text/plain": [
       "array([1, 3, 5, 3, 8])"
      ]
     },
     "execution_count": 9,
     "metadata": {},
     "output_type": "execute_result"
    }
   ],
   "source": [
    "np.array([1 , 3 , 5 , 3.14 , 8] , dtype=\"int\" ) #integer olarak yazdı hepsini"
   ]
  },
  {
   "cell_type": "code",
   "execution_count": null,
   "id": "c60dc5c7-4d19-431f-8921-602f8b5e5fac",
   "metadata": {},
   "outputs": [],
   "source": []
  },
  {
   "cell_type": "code",
   "execution_count": null,
   "id": "31a95c43-5b23-452f-bff4-d76c02f624d6",
   "metadata": {},
   "outputs": [],
   "source": []
  }
 ],
 "metadata": {
  "kernelspec": {
   "display_name": "Python 3 (ipykernel)",
   "language": "python",
   "name": "python3"
  },
  "language_info": {
   "codemirror_mode": {
    "name": "ipython",
    "version": 3
   },
   "file_extension": ".py",
   "mimetype": "text/x-python",
   "name": "python",
   "nbconvert_exporter": "python",
   "pygments_lexer": "ipython3",
   "version": "3.9.12"
  }
 },
 "nbformat": 4,
 "nbformat_minor": 5
}
