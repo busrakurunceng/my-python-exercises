{
 "cells": [
  {
   "cell_type": "markdown",
   "id": "01fb8cde-050e-42c5-a136-81cd416ab603",
   "metadata": {},
   "source": [
    "# Alt Küme Üzerinde İşlem Yapmak\n",
    "## COPY FONK\n"
   ]
  },
  {
   "cell_type": "code",
   "execution_count": 2,
   "id": "076ff072-8b81-4f35-93b2-be686401c760",
   "metadata": {},
   "outputs": [],
   "source": [
    "import numpy as np"
   ]
  },
  {
   "cell_type": "code",
   "execution_count": 4,
   "id": "5fae04b2-fa77-4ccf-aabb-b81c1aa45718",
   "metadata": {},
   "outputs": [
    {
     "data": {
      "text/plain": [
       "array([[7, 2, 6, 1, 9],\n",
       "       [9, 8, 4, 3, 2],\n",
       "       [1, 5, 0, 4, 6],\n",
       "       [7, 8, 9, 8, 8],\n",
       "       [5, 0, 5, 0, 2]])"
      ]
     },
     "execution_count": 4,
     "metadata": {},
     "output_type": "execute_result"
    }
   ],
   "source": [
    "a=np.random.randint(10, size=(5,5))\n",
    "a"
   ]
  },
  {
   "cell_type": "code",
   "execution_count": 6,
   "id": "ff0015c1-f4c0-49da-a167-88ba694ce5b3",
   "metadata": {},
   "outputs": [
    {
     "data": {
      "text/plain": [
       "array([[7, 2],\n",
       "       [9, 8],\n",
       "       [1, 5]])"
      ]
     },
     "execution_count": 6,
     "metadata": {},
     "output_type": "execute_result"
    }
   ],
   "source": [
    "alt_a= a[0:3 , 0:2]\n",
    "alt_a"
   ]
  },
  {
   "cell_type": "code",
   "execution_count": 8,
   "id": "adc37cbe-5788-4192-8c13-bb6d41d317a9",
   "metadata": {},
   "outputs": [],
   "source": [
    "alt_a[0,0]=9999\n",
    "alt_a[1,1]=75"
   ]
  },
  {
   "cell_type": "code",
   "execution_count": 9,
   "id": "e389b320-dcc4-4adb-9cf5-ff9b97ee0e0c",
   "metadata": {},
   "outputs": [
    {
     "data": {
      "text/plain": [
       "array([[9999,    2,    6,    1,    9],\n",
       "       [   9,   75,    4,    3,    2],\n",
       "       [   1,    5,    0,    4,    6],\n",
       "       [   7,    8,    9,    8,    8],\n",
       "       [   5,    0,    5,    0,    2]])"
      ]
     },
     "execution_count": 9,
     "metadata": {},
     "output_type": "execute_result"
    }
   ],
   "source": [
    "a # a üzerinde değişiklik yaptı"
   ]
  },
  {
   "cell_type": "code",
   "execution_count": 11,
   "id": "0c57dd0d-2a7c-403b-a0b3-4b495dc20e2d",
   "metadata": {},
   "outputs": [
    {
     "data": {
      "text/plain": [
       "array([[9999,    2],\n",
       "       [   9,   75],\n",
       "       [   1,    5]])"
      ]
     },
     "execution_count": 11,
     "metadata": {},
     "output_type": "execute_result"
    }
   ],
   "source": [
    "alt_a # alt_a oluşurken kırpıldı "
   ]
  },
  {
   "cell_type": "code",
   "execution_count": 12,
   "id": "7bb00143-3e10-4fb7-a05f-b84d9403570a",
   "metadata": {},
   "outputs": [
    {
     "data": {
      "text/plain": [
       "array([[8, 1, 6, 3, 3],\n",
       "       [7, 1, 8, 0, 6],\n",
       "       [0, 9, 1, 5, 0],\n",
       "       [5, 4, 8, 9, 6],\n",
       "       [9, 0, 4, 7, 7]])"
      ]
     },
     "execution_count": 12,
     "metadata": {},
     "output_type": "execute_result"
    }
   ],
   "source": [
    "b=np.random.randint(10, size=(5,5))\n",
    "b"
   ]
  },
  {
   "cell_type": "code",
   "execution_count": 24,
   "id": "d77c2c30-13b0-4cd7-8166-798633c6a908",
   "metadata": {},
   "outputs": [
    {
     "data": {
      "text/plain": [
       "array([[8, 1],\n",
       "       [7, 1],\n",
       "       [0, 9]])"
      ]
     },
     "execution_count": 24,
     "metadata": {},
     "output_type": "execute_result"
    }
   ],
   "source": [
    "alt_b=b[0:3 , 0:2].copy() #copy fonksiyonu\n",
    "alt_b"
   ]
  },
  {
   "cell_type": "code",
   "execution_count": 25,
   "id": "dbc74bbb-dd98-4b00-b470-ce5c976e8324",
   "metadata": {},
   "outputs": [],
   "source": [
    "alt_b[0,0]=9999\n",
    "alt_b[1,1]=85"
   ]
  },
  {
   "cell_type": "code",
   "execution_count": 26,
   "id": "7deab5f6-0af7-47ce-a66d-57d2a7c6dcc7",
   "metadata": {},
   "outputs": [
    {
     "data": {
      "text/plain": [
       "array([[9999,    1],\n",
       "       [   7,   85],\n",
       "       [   0,    9]])"
      ]
     },
     "execution_count": 26,
     "metadata": {},
     "output_type": "execute_result"
    }
   ],
   "source": [
    "alt_b"
   ]
  },
  {
   "cell_type": "code",
   "execution_count": 21,
   "id": "e60388eb-5529-49ee-8394-79248b52b6cc",
   "metadata": {},
   "outputs": [
    {
     "data": {
      "text/plain": [
       "array([[8, 1, 6, 3, 3],\n",
       "       [7, 1, 8, 0, 6],\n",
       "       [0, 9, 1, 5, 0],\n",
       "       [5, 4, 8, 9, 6],\n",
       "       [9, 0, 4, 7, 7]])"
      ]
     },
     "execution_count": 21,
     "metadata": {},
     "output_type": "execute_result"
    }
   ],
   "source": [
    "b"
   ]
  },
  {
   "cell_type": "code",
   "execution_count": 27,
   "id": "f39328a4-3c0f-4986-9155-fdaba058501c",
   "metadata": {},
   "outputs": [
    {
     "data": {
      "text/plain": [
       "array([[10002,     4],\n",
       "       [   10,    88],\n",
       "       [    3,    12]])"
      ]
     },
     "execution_count": 27,
     "metadata": {},
     "output_type": "execute_result"
    }
   ],
   "source": [
    "alt_b+3"
   ]
  },
  {
   "cell_type": "code",
   "execution_count": 28,
   "id": "dd439932-a6b1-43ab-bc7d-87473ff7ba75",
   "metadata": {},
   "outputs": [
    {
     "data": {
      "text/plain": [
       "array([[8, 1, 6, 3, 3],\n",
       "       [7, 1, 8, 0, 6],\n",
       "       [0, 9, 1, 5, 0],\n",
       "       [5, 4, 8, 9, 6],\n",
       "       [9, 0, 4, 7, 7]])"
      ]
     },
     "execution_count": 28,
     "metadata": {},
     "output_type": "execute_result"
    }
   ],
   "source": [
    "b # copy fonk ile yazıldığında b'den bağımsız oldu"
   ]
  },
  {
   "cell_type": "code",
   "execution_count": null,
   "id": "2d0eca88-e6ef-429b-ad92-4770582c6bf3",
   "metadata": {},
   "outputs": [],
   "source": []
  }
 ],
 "metadata": {
  "kernelspec": {
   "display_name": "Python 3 (ipykernel)",
   "language": "python",
   "name": "python3"
  },
  "language_info": {
   "codemirror_mode": {
    "name": "ipython",
    "version": 3
   },
   "file_extension": ".py",
   "mimetype": "text/x-python",
   "name": "python",
   "nbconvert_exporter": "python",
   "pygments_lexer": "ipython3",
   "version": "3.9.12"
  }
 },
 "nbformat": 4,
 "nbformat_minor": 5
}
