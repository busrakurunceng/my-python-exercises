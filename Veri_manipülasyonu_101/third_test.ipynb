{
 "cells": [
  {
   "cell_type": "markdown",
   "id": "1a99e373-320b-4355-8843-a597de26f8d0",
   "metadata": {},
   "source": [
    "ndim:  _boyut sayısı_\n",
    "\n",
    "shape:  _boyut bilgisi_\n",
    "\n",
    "size:  _toplam eleman sayısı_\n",
    "\n",
    "dtype: _array veri tipi_"
   ]
  },
  {
   "cell_type": "code",
   "execution_count": 1,
   "id": "b4a988a2-d5d9-4b69-b8f0-efb2c8c9e695",
   "metadata": {},
   "outputs": [],
   "source": [
    "import numpy as np"
   ]
  },
  {
   "cell_type": "code",
   "execution_count": 2,
   "id": "1c48e562-9ddd-49e1-a0f6-2bb13d343b70",
   "metadata": {
    "scrolled": true
   },
   "outputs": [
    {
     "data": {
      "text/plain": [
       "array([8, 2, 1, 6, 6, 2, 5, 4, 0, 1])"
      ]
     },
     "execution_count": 2,
     "metadata": {},
     "output_type": "execute_result"
    }
   ],
   "source": [
    "np.random.randint(10 , size=10)"
   ]
  },
  {
   "cell_type": "code",
   "execution_count": 3,
   "id": "27f3e647-f878-4e5c-b62b-96ee225cce1a",
   "metadata": {},
   "outputs": [],
   "source": [
    "a=np.random.randint(10 , size=10)"
   ]
  },
  {
   "cell_type": "code",
   "execution_count": 4,
   "id": "d4fb691a-55c0-4aa0-93ec-0466acc893d3",
   "metadata": {},
   "outputs": [
    {
     "data": {
      "text/plain": [
       "1"
      ]
     },
     "execution_count": 4,
     "metadata": {},
     "output_type": "execute_result"
    }
   ],
   "source": [
    "a.ndim"
   ]
  },
  {
   "cell_type": "code",
   "execution_count": 5,
   "id": "e7d45eb8-e5cc-46a9-a90c-1a394efa9a5c",
   "metadata": {},
   "outputs": [
    {
     "data": {
      "text/plain": [
       "(10,)"
      ]
     },
     "execution_count": 5,
     "metadata": {},
     "output_type": "execute_result"
    }
   ],
   "source": [
    "a.shape"
   ]
  },
  {
   "cell_type": "code",
   "execution_count": 6,
   "id": "853b55a7-0c36-46b2-b889-508108073e7d",
   "metadata": {},
   "outputs": [
    {
     "data": {
      "text/plain": [
       "10"
      ]
     },
     "execution_count": 6,
     "metadata": {},
     "output_type": "execute_result"
    }
   ],
   "source": [
    "a.size"
   ]
  },
  {
   "cell_type": "code",
   "execution_count": 7,
   "id": "d408ce23-1b28-41e3-80ee-899797d930ed",
   "metadata": {},
   "outputs": [
    {
     "data": {
      "text/plain": [
       "dtype('int32')"
      ]
     },
     "execution_count": 7,
     "metadata": {},
     "output_type": "execute_result"
    }
   ],
   "source": [
    "a.dtype"
   ]
  },
  {
   "cell_type": "code",
   "execution_count": 11,
   "id": "ac5a2f81-cc72-42b1-964e-d2e4b430a8ce",
   "metadata": {},
   "outputs": [],
   "source": [
    "b=np.random.randint(10 , size=(3,5))"
   ]
  },
  {
   "cell_type": "code",
   "execution_count": 12,
   "id": "87de7bbf-7f95-45a3-b619-c1601ee0e02d",
   "metadata": {},
   "outputs": [
    {
     "data": {
      "text/plain": [
       "array([[1, 0, 4, 5, 7],\n",
       "       [6, 7, 8, 0, 5],\n",
       "       [2, 9, 8, 5, 4]])"
      ]
     },
     "execution_count": 12,
     "metadata": {},
     "output_type": "execute_result"
    }
   ],
   "source": [
    "b"
   ]
  },
  {
   "cell_type": "code",
   "execution_count": 13,
   "id": "c0eef451-7eb4-4780-abe9-01f8bdb6cd9c",
   "metadata": {},
   "outputs": [
    {
     "data": {
      "text/plain": [
       "2"
      ]
     },
     "execution_count": 13,
     "metadata": {},
     "output_type": "execute_result"
    }
   ],
   "source": [
    "b.ndim #boyut sayısı"
   ]
  },
  {
   "cell_type": "code",
   "execution_count": 14,
   "id": "43f94f0f-a6be-4715-b867-e9a7e6460b6c",
   "metadata": {},
   "outputs": [
    {
     "data": {
      "text/plain": [
       "(3, 5)"
      ]
     },
     "execution_count": 14,
     "metadata": {},
     "output_type": "execute_result"
    }
   ],
   "source": [
    "b.shape #boyut bilgisi"
   ]
  },
  {
   "cell_type": "code",
   "execution_count": 15,
   "id": "e9468776-0931-4ac4-ac87-d5aef9734e0d",
   "metadata": {},
   "outputs": [
    {
     "data": {
      "text/plain": [
       "15"
      ]
     },
     "execution_count": 15,
     "metadata": {},
     "output_type": "execute_result"
    }
   ],
   "source": [
    "b.size"
   ]
  },
  {
   "cell_type": "code",
   "execution_count": 17,
   "id": "0f7bbad0-3817-48ea-b463-383ab0f552be",
   "metadata": {},
   "outputs": [
    {
     "data": {
      "text/plain": [
       "dtype('int32')"
      ]
     },
     "execution_count": 17,
     "metadata": {},
     "output_type": "execute_result"
    }
   ],
   "source": [
    "b.dtype"
   ]
  },
  {
   "cell_type": "code",
   "execution_count": 1,
   "id": "becec31f-0082-4445-b55f-0da65e6ef502",
   "metadata": {},
   "outputs": [
    {
     "data": {
      "text/plain": [
       "array([[1., 1.],\n",
       "       [1., 1.],\n",
       "       [1., 1.]])"
      ]
     },
     "execution_count": 1,
     "metadata": {},
     "output_type": "execute_result"
    }
   ],
   "source": [
    "import numpy as np\n",
    "np.ones((3,2))"
   ]
  },
  {
   "cell_type": "code",
   "execution_count": null,
   "id": "da766d84-80f1-44f7-a2bf-f46a85896894",
   "metadata": {},
   "outputs": [],
   "source": []
  }
 ],
 "metadata": {
  "kernelspec": {
   "display_name": "Python 3 (ipykernel)",
   "language": "python",
   "name": "python3"
  },
  "language_info": {
   "codemirror_mode": {
    "name": "ipython",
    "version": 3
   },
   "file_extension": ".py",
   "mimetype": "text/x-python",
   "name": "python",
   "nbconvert_exporter": "python",
   "pygments_lexer": "ipython3",
   "version": "3.9.12"
  }
 },
 "nbformat": 4,
 "nbformat_minor": 5
}
