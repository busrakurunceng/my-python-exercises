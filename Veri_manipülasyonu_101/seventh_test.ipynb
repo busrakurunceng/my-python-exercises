{
 "cells": [
  {
   "cell_type": "markdown",
   "id": "d6618416-5568-46b0-a86f-97a03ae45058",
   "metadata": {},
   "source": [
    "# sorting (sıralama)"
   ]
  },
  {
   "cell_type": "code",
   "execution_count": 1,
   "id": "4ab03e9e-217a-46dc-b8fe-15da36b4c07e",
   "metadata": {},
   "outputs": [],
   "source": [
    "import numpy as np"
   ]
  },
  {
   "cell_type": "code",
   "execution_count": 3,
   "id": "aefddc86-92a1-48fb-b358-949e6e411634",
   "metadata": {},
   "outputs": [
    {
     "data": {
      "text/plain": [
       "array([2, 1, 4, 3, 5])"
      ]
     },
     "execution_count": 3,
     "metadata": {},
     "output_type": "execute_result"
    }
   ],
   "source": [
    "v=np.array([2,1,4,3,5])\n",
    "v"
   ]
  },
  {
   "cell_type": "code",
   "execution_count": 18,
   "id": "7e4a0a27-ee9c-4575-9ab4-a059f2e73b1d",
   "metadata": {},
   "outputs": [],
   "source": [
    " v.sort()"
   ]
  },
  {
   "cell_type": "code",
   "execution_count": 19,
   "id": "2ed90cc8-f8db-44cd-990d-4941bfd9735a",
   "metadata": {},
   "outputs": [
    {
     "data": {
      "text/plain": [
       "array([1, 2, 3, 4, 5])"
      ]
     },
     "execution_count": 19,
     "metadata": {},
     "output_type": "execute_result"
    }
   ],
   "source": [
    "v"
   ]
  },
  {
   "cell_type": "markdown",
   "id": "311deee2-7ae4-45ff-8451-809b2eba2be7",
   "metadata": {},
   "source": [
    "## iki boyutlu array sıralama"
   ]
  },
  {
   "cell_type": "code",
   "execution_count": 21,
   "id": "7636e5bb-b280-4f69-a1db-6e2ca6d74873",
   "metadata": {},
   "outputs": [
    {
     "data": {
      "text/plain": [
       "array([[20.21404346, 15.02825463, 12.95418348],\n",
       "       [24.93882022, 18.43216023, 19.59702365],\n",
       "       [11.08185155, 24.0030337 , 26.89938417]])"
      ]
     },
     "execution_count": 21,
     "metadata": {},
     "output_type": "execute_result"
    }
   ],
   "source": [
    "m=np.random.normal(20,5 , [3,3])\n",
    "m"
   ]
  },
  {
   "cell_type": "code",
   "execution_count": 24,
   "id": "9468683e-eb6e-416f-9e93-55ad46e22aee",
   "metadata": {},
   "outputs": [
    {
     "data": {
      "text/plain": [
       "array([[11.08185155, 15.02825463, 12.95418348],\n",
       "       [20.21404346, 18.43216023, 19.59702365],\n",
       "       [24.93882022, 24.0030337 , 26.89938417]])"
      ]
     },
     "execution_count": 24,
     "metadata": {},
     "output_type": "execute_result"
    }
   ],
   "source": [
    "np.sort(m, axis=0) #satıra göre sıralama"
   ]
  },
  {
   "cell_type": "code",
   "execution_count": 25,
   "id": "359cf7a2-9524-4920-9334-0076d288d4cf",
   "metadata": {},
   "outputs": [
    {
     "data": {
      "text/plain": [
       "array([[12.95418348, 15.02825463, 20.21404346],\n",
       "       [18.43216023, 19.59702365, 24.93882022],\n",
       "       [11.08185155, 24.0030337 , 26.89938417]])"
      ]
     },
     "execution_count": 25,
     "metadata": {},
     "output_type": "execute_result"
    }
   ],
   "source": [
    "np.sort(m, axis=1) #sütuna göre sıralama"
   ]
  },
  {
   "cell_type": "code",
   "execution_count": null,
   "id": "22bbcae9-c59e-4dcc-a546-e25e0fb507bc",
   "metadata": {},
   "outputs": [],
   "source": []
  }
 ],
 "metadata": {
  "kernelspec": {
   "display_name": "Python 3 (ipykernel)",
   "language": "python",
   "name": "python3"
  },
  "language_info": {
   "codemirror_mode": {
    "name": "ipython",
    "version": 3
   },
   "file_extension": ".py",
   "mimetype": "text/x-python",
   "name": "python",
   "nbconvert_exporter": "python",
   "pygments_lexer": "ipython3",
   "version": "3.9.12"
  }
 },
 "nbformat": 4,
 "nbformat_minor": 5
}
