{
 "cells": [
  {
   "cell_type": "code",
   "execution_count": 1,
   "id": "94881865",
   "metadata": {},
   "outputs": [],
   "source": [
    "import numpy as np"
   ]
  },
  {
   "cell_type": "code",
   "execution_count": 3,
   "id": "be009229",
   "metadata": {},
   "outputs": [],
   "source": [
    "a=np.random.randint(0,10, size=(3,6))"
   ]
  },
  {
   "cell_type": "markdown",
   "id": "7e42a914",
   "metadata": {},
   "source": [
    "tek bir değişken tipinde değerler tutabilir"
   ]
  },
  {
   "cell_type": "code",
   "execution_count": 4,
   "id": "0b258a8d",
   "metadata": {},
   "outputs": [
    {
     "data": {
      "text/plain": [
       "array([[7, 8, 9, 2, 5, 2],\n",
       "       [8, 8, 2, 6, 2, 6],\n",
       "       [5, 2, 5, 2, 3, 2]])"
      ]
     },
     "execution_count": 4,
     "metadata": {},
     "output_type": "execute_result"
    }
   ],
   "source": [
    "a"
   ]
  },
  {
   "cell_type": "code",
   "execution_count": 5,
   "id": "bce4e1cb",
   "metadata": {},
   "outputs": [
    {
     "name": "stdout",
     "output_type": "stream",
     "text": [
      "boyutu 2\n"
     ]
    }
   ],
   "source": [
    "print(\"boyutu\" , a.ndim)"
   ]
  },
  {
   "cell_type": "code",
   "execution_count": 6,
   "id": "2e191fde",
   "metadata": {},
   "outputs": [
    {
     "name": "stdout",
     "output_type": "stream",
     "text": [
      "şekli (3, 6)\n"
     ]
    }
   ],
   "source": [
    "print(\"şekli\" , a.shape)"
   ]
  },
  {
   "cell_type": "code",
   "execution_count": 7,
   "id": "862d510c",
   "metadata": {},
   "outputs": [
    {
     "name": "stdout",
     "output_type": "stream",
     "text": [
      "eleman sayısı 18\n"
     ]
    }
   ],
   "source": [
    "print(\"eleman sayısı\" , a.size)"
   ]
  },
  {
   "cell_type": "code",
   "execution_count": 8,
   "id": "c863efef",
   "metadata": {},
   "outputs": [
    {
     "name": "stdout",
     "output_type": "stream",
     "text": [
      "değişken tipi int32\n"
     ]
    }
   ],
   "source": [
    "print(\"değişken tipi\" , a.dtype)"
   ]
  },
  {
   "cell_type": "code",
   "execution_count": 9,
   "id": "6aedfaad",
   "metadata": {},
   "outputs": [
    {
     "data": {
      "text/plain": [
       "array([[7, 8],\n",
       "       [9, 2],\n",
       "       [5, 2],\n",
       "       [8, 8],\n",
       "       [2, 6],\n",
       "       [2, 6],\n",
       "       [5, 2],\n",
       "       [5, 2],\n",
       "       [3, 2]])"
      ]
     },
     "execution_count": 9,
     "metadata": {},
     "output_type": "execute_result"
    }
   ],
   "source": [
    "a.reshape((9,2))"
   ]
  },
  {
   "cell_type": "markdown",
   "id": "25e73b89",
   "metadata": {},
   "source": [
    "reshape ile satır sütun sayısını değiştirebiliriz\n"
   ]
  },
  {
   "cell_type": "code",
   "execution_count": 10,
   "id": "88b74d04",
   "metadata": {},
   "outputs": [
    {
     "data": {
      "text/plain": [
       "array([[7, 8, 9, 2, 5, 2, 8, 8, 2, 6, 2, 6, 5, 2, 5, 2, 3, 2]])"
      ]
     },
     "execution_count": 10,
     "metadata": {},
     "output_type": "execute_result"
    }
   ],
   "source": [
    "a.reshape((1,18))"
   ]
  },
  {
   "cell_type": "code",
   "execution_count": 12,
   "id": "17dad902",
   "metadata": {},
   "outputs": [],
   "source": [
    "a=np.array([[1,2,3],[4,5,6]])"
   ]
  },
  {
   "cell_type": "code",
   "execution_count": 13,
   "id": "f27219a2",
   "metadata": {},
   "outputs": [
    {
     "data": {
      "text/plain": [
       "array([[1, 2, 3],\n",
       "       [4, 5, 6]])"
      ]
     },
     "execution_count": 13,
     "metadata": {},
     "output_type": "execute_result"
    }
   ],
   "source": [
    "a"
   ]
  },
  {
   "cell_type": "code",
   "execution_count": 14,
   "id": "856cb198",
   "metadata": {},
   "outputs": [],
   "source": [
    "b=np.array([[20,30,40],[50,60,70]])"
   ]
  },
  {
   "cell_type": "code",
   "execution_count": 15,
   "id": "b6b50735",
   "metadata": {},
   "outputs": [
    {
     "data": {
      "text/plain": [
       "array([[20, 30, 40],\n",
       "       [50, 60, 70]])"
      ]
     },
     "execution_count": 15,
     "metadata": {},
     "output_type": "execute_result"
    }
   ],
   "source": [
    "b"
   ]
  },
  {
   "cell_type": "markdown",
   "id": "f4d836e2",
   "metadata": {},
   "source": [
    "concatenate iki matrisi birbirine yapıştırır"
   ]
  },
  {
   "cell_type": "code",
   "execution_count": 19,
   "id": "214a0e1f",
   "metadata": {},
   "outputs": [
    {
     "data": {
      "text/plain": [
       "array([[ 1,  2,  3],\n",
       "       [ 4,  5,  6],\n",
       "       [20, 30, 40],\n",
       "       [50, 60, 70]])"
      ]
     },
     "execution_count": 19,
     "metadata": {},
     "output_type": "execute_result"
    }
   ],
   "source": [
    "np.concatenate([a,b]) #dikey birleştirme"
   ]
  },
  {
   "cell_type": "code",
   "execution_count": 18,
   "id": "4d4a985f",
   "metadata": {},
   "outputs": [
    {
     "data": {
      "text/plain": [
       "array([[ 1,  2,  3, 20, 30, 40],\n",
       "       [ 4,  5,  6, 50, 60, 70]])"
      ]
     },
     "execution_count": 18,
     "metadata": {},
     "output_type": "execute_result"
    }
   ],
   "source": [
    "np.concatenate([a,b] , axis=1) #yatay birleştirme"
   ]
  },
  {
   "cell_type": "code",
   "execution_count": 21,
   "id": "53a37709",
   "metadata": {},
   "outputs": [
    {
     "data": {
      "text/plain": [
       "array([ 1,  2,  3,  4, 29, 51, 99])"
      ]
     },
     "execution_count": 21,
     "metadata": {},
     "output_type": "execute_result"
    }
   ],
   "source": [
    "a=np.array([2,1,4,99,29,3,51])\n",
    "b=np.sort(a)\n",
    "b"
   ]
  },
  {
   "cell_type": "code",
   "execution_count": 26,
   "id": "7b5c578b",
   "metadata": {},
   "outputs": [
    {
     "data": {
      "text/plain": [
       "array([99, 51, 29,  4,  3,  2,  1])"
      ]
     },
     "execution_count": 26,
     "metadata": {},
     "output_type": "execute_result"
    }
   ],
   "source": [
    "b[::-1]"
   ]
  },
  {
   "cell_type": "code",
   "execution_count": 29,
   "id": "10a1d74b",
   "metadata": {},
   "outputs": [
    {
     "data": {
      "text/plain": [
       "array([[7, 7, 7],\n",
       "       [7, 7, 7],\n",
       "       [7, 7, 7],\n",
       "       [7, 7, 7]])"
      ]
     },
     "execution_count": 29,
     "metadata": {},
     "output_type": "execute_result"
    }
   ],
   "source": [
    "x=np.full((4,3),7)\n",
    "x"
   ]
  },
  {
   "cell_type": "code",
   "execution_count": 31,
   "id": "9ddde0d7",
   "metadata": {},
   "outputs": [
    {
     "data": {
      "text/plain": [
       "array([[7, 7, 7, 7],\n",
       "       [7, 7, 7, 7],\n",
       "       [7, 7, 7, 7]])"
      ]
     },
     "execution_count": 31,
     "metadata": {},
     "output_type": "execute_result"
    }
   ],
   "source": [
    "x.T #transpoz alma"
   ]
  },
  {
   "cell_type": "code",
   "execution_count": null,
   "id": "05c424c7",
   "metadata": {},
   "outputs": [],
   "source": []
  }
 ],
 "metadata": {
  "kernelspec": {
   "display_name": "Python 3 (ipykernel)",
   "language": "python",
   "name": "python3"
  },
  "language_info": {
   "codemirror_mode": {
    "name": "ipython",
    "version": 3
   },
   "file_extension": ".py",
   "mimetype": "text/x-python",
   "name": "python",
   "nbconvert_exporter": "python",
   "pygments_lexer": "ipython3",
   "version": "3.9.12"
  }
 },
 "nbformat": 4,
 "nbformat_minor": 5
}
