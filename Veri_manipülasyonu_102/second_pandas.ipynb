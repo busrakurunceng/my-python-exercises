{
 "cells": [
  {
   "cell_type": "markdown",
   "id": "943356b1-c793-4867-9245-30467d68f4e5",
   "metadata": {},
   "source": [
    "# eleman işlemleri"
   ]
  },
  {
   "cell_type": "code",
   "execution_count": 2,
   "id": "347d28c5-2590-4c1f-a7ab-935b0a1c7be3",
   "metadata": {},
   "outputs": [
    {
     "data": {
      "text/plain": [
       "0      1\n",
       "1      2\n",
       "2     33\n",
       "3    444\n",
       "4     75\n",
       "dtype: int32"
      ]
     },
     "execution_count": 2,
     "metadata": {},
     "output_type": "execute_result"
    }
   ],
   "source": [
    "import pandas as pd\n",
    "import numpy as np\n",
    "a=np.array([1,2,33,444,75])\n",
    "seri=pd.Series(a)\n",
    "seri"
   ]
  },
  {
   "cell_type": "code",
   "execution_count": 5,
   "id": "62601f95-0dc8-42dc-af28-2a30a3c98cba",
   "metadata": {},
   "outputs": [
    {
     "data": {
      "text/plain": [
       "444"
      ]
     },
     "execution_count": 5,
     "metadata": {},
     "output_type": "execute_result"
    }
   ],
   "source": [
    "seri[3]"
   ]
  },
  {
   "cell_type": "code",
   "execution_count": 6,
   "id": "6f49aff2-f744-4486-ab5a-d7c0d17e5a5d",
   "metadata": {},
   "outputs": [
    {
     "data": {
      "text/plain": [
       "0     1\n",
       "1     2\n",
       "2    33\n",
       "dtype: int32"
      ]
     },
     "execution_count": 6,
     "metadata": {},
     "output_type": "execute_result"
    }
   ],
   "source": [
    "seri[0:3]"
   ]
  },
  {
   "cell_type": "code",
   "execution_count": 7,
   "id": "0891a9e4-ffbb-48f2-9622-cf3a52377315",
   "metadata": {},
   "outputs": [],
   "source": [
    "seri=pd.Series([121,200,150,99] , index=[\"reg\", \"loj\" , \"cart\" , \"bak\"])"
   ]
  },
  {
   "cell_type": "code",
   "execution_count": 8,
   "id": "fba2fb8e-d524-41f7-b06b-2d5a0442f844",
   "metadata": {},
   "outputs": [
    {
     "data": {
      "text/plain": [
       "Index(['reg', 'loj', 'cart', 'bak'], dtype='object')"
      ]
     },
     "execution_count": 8,
     "metadata": {},
     "output_type": "execute_result"
    }
   ],
   "source": [
    "seri.index"
   ]
  },
  {
   "cell_type": "code",
   "execution_count": 9,
   "id": "aca75846-00b6-49bb-9e7a-c7e5a8b85660",
   "metadata": {},
   "outputs": [
    {
     "data": {
      "text/plain": [
       "<bound method Series.keys of reg     121\n",
       "loj     200\n",
       "cart    150\n",
       "bak      99\n",
       "dtype: int64>"
      ]
     },
     "execution_count": 9,
     "metadata": {},
     "output_type": "execute_result"
    }
   ],
   "source": [
    "seri.keys"
   ]
  },
  {
   "cell_type": "code",
   "execution_count": 10,
   "id": "2603d57a-4fa8-48f7-bf1a-b2ca2dc76f1c",
   "metadata": {},
   "outputs": [
    {
     "data": {
      "text/plain": [
       "[('reg', 121), ('loj', 200), ('cart', 150), ('bak', 99)]"
      ]
     },
     "execution_count": 10,
     "metadata": {},
     "output_type": "execute_result"
    }
   ],
   "source": [
    "list(seri.items())"
   ]
  },
  {
   "cell_type": "code",
   "execution_count": 11,
   "id": "8e5d5ff4-45e0-42ab-b388-a045712049e4",
   "metadata": {},
   "outputs": [
    {
     "data": {
      "text/plain": [
       "array([121, 200, 150,  99], dtype=int64)"
      ]
     },
     "execution_count": 11,
     "metadata": {},
     "output_type": "execute_result"
    }
   ],
   "source": [
    "seri.values"
   ]
  },
  {
   "cell_type": "code",
   "execution_count": 12,
   "id": "310b7fe7-4712-4cd1-89d3-01ebbd3fa3a8",
   "metadata": {},
   "outputs": [
    {
     "data": {
      "text/plain": [
       "True"
      ]
     },
     "execution_count": 12,
     "metadata": {},
     "output_type": "execute_result"
    }
   ],
   "source": [
    "#eleman sorgulama\n",
    "\"reg\" in seri"
   ]
  },
  {
   "cell_type": "code",
   "execution_count": 14,
   "id": "fc4102ea-46e8-4c7b-bcda-cac640afe88e",
   "metadata": {},
   "outputs": [
    {
     "data": {
      "text/plain": [
       "False"
      ]
     },
     "execution_count": 14,
     "metadata": {},
     "output_type": "execute_result"
    }
   ],
   "source": [
    "\"bom\" in seri"
   ]
  },
  {
   "cell_type": "code",
   "execution_count": 16,
   "id": "d2160250-4ca8-40cf-a5ad-43104482ec4f",
   "metadata": {},
   "outputs": [
    {
     "data": {
      "text/plain": [
       "99"
      ]
     },
     "execution_count": 16,
     "metadata": {},
     "output_type": "execute_result"
    }
   ],
   "source": [
    "seri[\"bak\"]"
   ]
  },
  {
   "cell_type": "markdown",
   "id": "afba364b-4983-4598-b883-0e7cd035f0f9",
   "metadata": {},
   "source": [
    "__fancy eleman ile__"
   ]
  },
  {
   "cell_type": "code",
   "execution_count": 17,
   "id": "b6d57526-261d-47a8-b5d1-1578fd1b95df",
   "metadata": {},
   "outputs": [
    {
     "data": {
      "text/plain": [
       "loj     200\n",
       "cart    150\n",
       "dtype: int64"
      ]
     },
     "execution_count": 17,
     "metadata": {},
     "output_type": "execute_result"
    }
   ],
   "source": [
    "seri[[\"loj\" , \"cart\"]]"
   ]
  },
  {
   "cell_type": "code",
   "execution_count": 19,
   "id": "21e4aaf5-1db7-4a7f-88c1-796197ab700f",
   "metadata": {},
   "outputs": [
    {
     "data": {
      "text/plain": [
       "212"
      ]
     },
     "execution_count": 19,
     "metadata": {},
     "output_type": "execute_result"
    }
   ],
   "source": [
    "seri[\"loj\"]=212\n",
    "seri[\"loj\"]"
   ]
  },
  {
   "cell_type": "code",
   "execution_count": 20,
   "id": "c590e587-bb60-4173-bb17-608671a95c67",
   "metadata": {},
   "outputs": [
    {
     "data": {
      "text/plain": [
       "loj     212\n",
       "cart    150\n",
       "bak      99\n",
       "dtype: int64"
      ]
     },
     "execution_count": 20,
     "metadata": {},
     "output_type": "execute_result"
    }
   ],
   "source": [
    "seri[\"loj\" : \"bak\"]"
   ]
  },
  {
   "cell_type": "code",
   "execution_count": null,
   "id": "2b6f4f55-780a-4657-93f6-3aa941cd3c3a",
   "metadata": {},
   "outputs": [],
   "source": []
  }
 ],
 "metadata": {
  "kernelspec": {
   "display_name": "Python 3 (ipykernel)",
   "language": "python",
   "name": "python3"
  },
  "language_info": {
   "codemirror_mode": {
    "name": "ipython",
    "version": 3
   },
   "file_extension": ".py",
   "mimetype": "text/x-python",
   "name": "python",
   "nbconvert_exporter": "python",
   "pygments_lexer": "ipython3",
   "version": "3.9.12"
  }
 },
 "nbformat": 4,
 "nbformat_minor": 5
}
