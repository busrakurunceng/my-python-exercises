{
 "cells": [
  {
   "cell_type": "markdown",
   "id": "6eb0daac-d13d-4fb7-ba2e-6f02fcc6b109",
   "metadata": {},
   "source": [
    "# PANDAS\n",
    "Panel Data"
   ]
  },
  {
   "cell_type": "markdown",
   "id": "cdd63d2d-bf02-4161-a6f6-0785b492b53b",
   "metadata": {},
   "source": [
    "veri manipülasyonu ve veri bilimi için yazılmış açık kaynak kodlu bir kütüphanedir. ekonometrik ve finansal çalışmaları. 2008de temeli atılmış.\n",
    "R DataFrame yapısını Pythona uyarlamış.\n",
    "farklı veri tipini okuma ve yazma"
   ]
  },
  {
   "cell_type": "markdown",
   "id": "b826eade-2d9a-4b16-a455-f12c3fbc13c6",
   "metadata": {},
   "source": [
    "# Pandas Serisi Oluşturma"
   ]
  },
  {
   "cell_type": "code",
   "execution_count": 4,
   "id": "a0457d88-1780-4b6f-abeb-197e1277e78b",
   "metadata": {},
   "outputs": [],
   "source": [
    "import pandas as pd"
   ]
  },
  {
   "cell_type": "code",
   "execution_count": 5,
   "id": "8a4efa2b-d96b-41fa-99dc-ea4c1be7bc2c",
   "metadata": {},
   "outputs": [],
   "source": [
    "seri=pd.Series([10,22,83,4,-5]) #index ve değerler bir arada verilir"
   ]
  },
  {
   "cell_type": "code",
   "execution_count": 6,
   "id": "7e26ceaa-d189-4e78-a325-64bd123ce71b",
   "metadata": {},
   "outputs": [
    {
     "data": {
      "text/plain": [
       "pandas.core.series.Series"
      ]
     },
     "execution_count": 6,
     "metadata": {},
     "output_type": "execute_result"
    }
   ],
   "source": [
    "type(seri)"
   ]
  },
  {
   "cell_type": "code",
   "execution_count": 7,
   "id": "9723acc1-4c03-4986-8a41-360f7ec6235f",
   "metadata": {},
   "outputs": [
    {
     "data": {
      "text/plain": [
       "[RangeIndex(start=0, stop=5, step=1)]"
      ]
     },
     "execution_count": 7,
     "metadata": {},
     "output_type": "execute_result"
    }
   ],
   "source": [
    "seri.axes #satır ve sütun özelliklerini veriyor"
   ]
  },
  {
   "cell_type": "markdown",
   "id": "c358d1b6-313d-4334-aef0-a2faf6c72662",
   "metadata": {},
   "source": [
    "index 0dan başlayıp 5e kadar 1er 1er artmış"
   ]
  },
  {
   "cell_type": "code",
   "execution_count": 8,
   "id": "6a83a9d6-693e-4070-b897-c4f0d3d297cb",
   "metadata": {},
   "outputs": [
    {
     "data": {
      "text/plain": [
       "dtype('int64')"
      ]
     },
     "execution_count": 8,
     "metadata": {},
     "output_type": "execute_result"
    }
   ],
   "source": [
    "seri.dtype"
   ]
  },
  {
   "cell_type": "code",
   "execution_count": 9,
   "id": "00939c40-9f32-47fd-b370-5cf1ee1fd56e",
   "metadata": {},
   "outputs": [
    {
     "data": {
      "text/plain": [
       "5"
      ]
     },
     "execution_count": 9,
     "metadata": {},
     "output_type": "execute_result"
    }
   ],
   "source": [
    "seri.size"
   ]
  },
  {
   "cell_type": "code",
   "execution_count": 10,
   "id": "33700307-63b9-46e9-9eaa-e42789486844",
   "metadata": {},
   "outputs": [
    {
     "data": {
      "text/plain": [
       "1"
      ]
     },
     "execution_count": 10,
     "metadata": {},
     "output_type": "execute_result"
    }
   ],
   "source": [
    "seri.ndim"
   ]
  },
  {
   "cell_type": "code",
   "execution_count": 1,
   "id": "70522850-1eb6-42b1-8733-48f5c2d1a4f0",
   "metadata": {},
   "outputs": [
    {
     "ename": "NameError",
     "evalue": "name 'seri' is not defined",
     "output_type": "error",
     "traceback": [
      "\u001b[1;31m---------------------------------------------------------------------------\u001b[0m",
      "\u001b[1;31mNameError\u001b[0m                                 Traceback (most recent call last)",
      "Input \u001b[1;32mIn [1]\u001b[0m, in \u001b[0;36m<cell line: 1>\u001b[1;34m()\u001b[0m\n\u001b[1;32m----> 1\u001b[0m \u001b[43mseri\u001b[49m\u001b[38;5;241m.\u001b[39mvalues()\n",
      "\u001b[1;31mNameError\u001b[0m: name 'seri' is not defined"
     ]
    }
   ],
   "source": [
    "seri.values()"
   ]
  },
  {
   "cell_type": "code",
   "execution_count": 12,
   "id": "482c94ae-b684-404e-a348-4e94e9948a54",
   "metadata": {},
   "outputs": [
    {
     "data": {
      "text/plain": [
       "0    10\n",
       "1    22\n",
       "2    83\n",
       "dtype: int64"
      ]
     },
     "execution_count": 12,
     "metadata": {},
     "output_type": "execute_result"
    }
   ],
   "source": [
    "seri.head(3) #belli bir kısmı"
   ]
  },
  {
   "cell_type": "code",
   "execution_count": 13,
   "id": "b977e468-a870-4f38-abc9-20e5b899ac89",
   "metadata": {},
   "outputs": [
    {
     "data": {
      "text/plain": [
       "2    83\n",
       "3     4\n",
       "4    -5\n",
       "dtype: int64"
      ]
     },
     "execution_count": 13,
     "metadata": {},
     "output_type": "execute_result"
    }
   ],
   "source": [
    "seri.tail(3)"
   ]
  },
  {
   "cell_type": "markdown",
   "id": "9c8e393d-c3e2-475d-8930-bb2bdb594910",
   "metadata": {},
   "source": [
    "## index isimlendirme"
   ]
  },
  {
   "cell_type": "code",
   "execution_count": 28,
   "id": "e7a0ee1e-0de0-4620-84b5-7ccdbc348cc3",
   "metadata": {},
   "outputs": [
    {
     "data": {
      "text/plain": [
       "0    [99, 22, 332, 94, 5]\n",
       "1        [9, 2, 32, 8, 0]\n",
       "dtype: object"
      ]
     },
     "execution_count": 28,
     "metadata": {},
     "output_type": "execute_result"
    }
   ],
   "source": [
    "pd.Series([[99,22,332,94,5] , [9,2,32,8,0]])"
   ]
  },
  {
   "cell_type": "code",
   "execution_count": 29,
   "id": "6d2ec81b-0ecb-4368-b2b2-88f3fd40c580",
   "metadata": {},
   "outputs": [
    {
     "ename": "KeyError",
     "evalue": "'key of type tuple not found and not a MultiIndex'",
     "output_type": "error",
     "traceback": [
      "\u001b[1;31m---------------------------------------------------------------------------\u001b[0m",
      "\u001b[1;31mKeyError\u001b[0m                                  Traceback (most recent call last)",
      "Input \u001b[1;32mIn [29]\u001b[0m, in \u001b[0;36m<cell line: 1>\u001b[1;34m()\u001b[0m\n\u001b[1;32m----> 1\u001b[0m \u001b[43mseri\u001b[49m\u001b[43m[\u001b[49m\u001b[38;5;241;43m1\u001b[39;49m\u001b[43m:\u001b[49m\u001b[38;5;241;43m3\u001b[39;49m\u001b[43m \u001b[49m\u001b[43m,\u001b[49m\u001b[43m:\u001b[49m\u001b[43m]\u001b[49m\n",
      "File \u001b[1;32m~\\anaconda3\\lib\\site-packages\\pandas\\core\\series.py:984\u001b[0m, in \u001b[0;36mSeries.__getitem__\u001b[1;34m(self, key)\u001b[0m\n\u001b[0;32m    981\u001b[0m     key \u001b[38;5;241m=\u001b[39m np\u001b[38;5;241m.\u001b[39masarray(key, dtype\u001b[38;5;241m=\u001b[39m\u001b[38;5;28mbool\u001b[39m)\n\u001b[0;32m    982\u001b[0m     \u001b[38;5;28;01mreturn\u001b[39;00m \u001b[38;5;28mself\u001b[39m\u001b[38;5;241m.\u001b[39m_get_values(key)\n\u001b[1;32m--> 984\u001b[0m \u001b[38;5;28;01mreturn\u001b[39;00m \u001b[38;5;28;43mself\u001b[39;49m\u001b[38;5;241;43m.\u001b[39;49m\u001b[43m_get_with\u001b[49m\u001b[43m(\u001b[49m\u001b[43mkey\u001b[49m\u001b[43m)\u001b[49m\n",
      "File \u001b[1;32m~\\anaconda3\\lib\\site-packages\\pandas\\core\\series.py:999\u001b[0m, in \u001b[0;36mSeries._get_with\u001b[1;34m(self, key)\u001b[0m\n\u001b[0;32m    994\u001b[0m     \u001b[38;5;28;01mraise\u001b[39;00m \u001b[38;5;167;01mTypeError\u001b[39;00m(\n\u001b[0;32m    995\u001b[0m         \u001b[38;5;124m\"\u001b[39m\u001b[38;5;124mIndexing a Series with DataFrame is not \u001b[39m\u001b[38;5;124m\"\u001b[39m\n\u001b[0;32m    996\u001b[0m         \u001b[38;5;124m\"\u001b[39m\u001b[38;5;124msupported, use the appropriate DataFrame column\u001b[39m\u001b[38;5;124m\"\u001b[39m\n\u001b[0;32m    997\u001b[0m     )\n\u001b[0;32m    998\u001b[0m \u001b[38;5;28;01melif\u001b[39;00m \u001b[38;5;28misinstance\u001b[39m(key, \u001b[38;5;28mtuple\u001b[39m):\n\u001b[1;32m--> 999\u001b[0m     \u001b[38;5;28;01mreturn\u001b[39;00m \u001b[38;5;28;43mself\u001b[39;49m\u001b[38;5;241;43m.\u001b[39;49m\u001b[43m_get_values_tuple\u001b[49m\u001b[43m(\u001b[49m\u001b[43mkey\u001b[49m\u001b[43m)\u001b[49m\n\u001b[0;32m   1001\u001b[0m \u001b[38;5;28;01melif\u001b[39;00m \u001b[38;5;129;01mnot\u001b[39;00m is_list_like(key):\n\u001b[0;32m   1002\u001b[0m     \u001b[38;5;66;03m# e.g. scalars that aren't recognized by lib.is_scalar, GH#32684\u001b[39;00m\n\u001b[0;32m   1003\u001b[0m     \u001b[38;5;28;01mreturn\u001b[39;00m \u001b[38;5;28mself\u001b[39m\u001b[38;5;241m.\u001b[39mloc[key]\n",
      "File \u001b[1;32m~\\anaconda3\\lib\\site-packages\\pandas\\core\\series.py:1034\u001b[0m, in \u001b[0;36mSeries._get_values_tuple\u001b[1;34m(self, key)\u001b[0m\n\u001b[0;32m   1031\u001b[0m     \u001b[38;5;28;01mreturn\u001b[39;00m result\n\u001b[0;32m   1033\u001b[0m \u001b[38;5;28;01mif\u001b[39;00m \u001b[38;5;129;01mnot\u001b[39;00m \u001b[38;5;28misinstance\u001b[39m(\u001b[38;5;28mself\u001b[39m\u001b[38;5;241m.\u001b[39mindex, MultiIndex):\n\u001b[1;32m-> 1034\u001b[0m     \u001b[38;5;28;01mraise\u001b[39;00m \u001b[38;5;167;01mKeyError\u001b[39;00m(\u001b[38;5;124m\"\u001b[39m\u001b[38;5;124mkey of type tuple not found and not a MultiIndex\u001b[39m\u001b[38;5;124m\"\u001b[39m)\n\u001b[0;32m   1036\u001b[0m \u001b[38;5;66;03m# If key is contained, would have returned by now\u001b[39;00m\n\u001b[0;32m   1037\u001b[0m indexer, new_index \u001b[38;5;241m=\u001b[39m \u001b[38;5;28mself\u001b[39m\u001b[38;5;241m.\u001b[39mindex\u001b[38;5;241m.\u001b[39mget_loc_level(key)\n",
      "\u001b[1;31mKeyError\u001b[0m: 'key of type tuple not found and not a MultiIndex'"
     ]
    }
   ],
   "source": [
    "seri[1:3 ,:]"
   ]
  },
  {
   "cell_type": "code",
   "execution_count": 15,
   "id": "71d50d20-c9d7-43d0-b2b0-3ba2b40607ff",
   "metadata": {},
   "outputs": [
    {
     "data": {
      "text/plain": [
       "b     99\n",
       "ü     22\n",
       "ş    332\n",
       "r     94\n",
       "a      5\n",
       "dtype: int64"
      ]
     },
     "execution_count": 15,
     "metadata": {},
     "output_type": "execute_result"
    }
   ],
   "source": [
    "pd.Series([99,22,332,94,5] , index=[\"b\" , \"ü\" , \"ş\" , \"r\", \"a\"])"
   ]
  },
  {
   "cell_type": "code",
   "execution_count": 21,
   "id": "9e201998-afaa-41a7-8827-c036bb83837a",
   "metadata": {},
   "outputs": [],
   "source": [
    "seri=pd.Series([99,22,332,94,5] , index=[\"b\" , \"ü\" , \"ş\" , \"r\", \"a\"])"
   ]
  },
  {
   "cell_type": "code",
   "execution_count": 22,
   "id": "9a706bd0-4d33-4421-8f86-fa63d303f368",
   "metadata": {},
   "outputs": [
    {
     "data": {
      "text/plain": [
       "5"
      ]
     },
     "execution_count": 22,
     "metadata": {},
     "output_type": "execute_result"
    }
   ],
   "source": [
    "seri[\"a\"]"
   ]
  },
  {
   "cell_type": "code",
   "execution_count": 23,
   "id": "51332b56-3ab8-419f-8ef9-05d81732a1c1",
   "metadata": {},
   "outputs": [
    {
     "data": {
      "text/plain": [
       "b     99\n",
       "ü     22\n",
       "ş    332\n",
       "dtype: int64"
      ]
     },
     "execution_count": 23,
     "metadata": {},
     "output_type": "execute_result"
    }
   ],
   "source": [
    "seri[\"b\" : \"ş\"]"
   ]
  },
  {
   "cell_type": "markdown",
   "id": "bb1967b7-a93e-4c80-ae1d-d26d6e407019",
   "metadata": {},
   "source": [
    "__sözlük üzerinden liste oluşturmak__"
   ]
  },
  {
   "cell_type": "code",
   "execution_count": 24,
   "id": "a41a77a0-6e5c-4023-bd2b-a67816e221ec",
   "metadata": {},
   "outputs": [],
   "source": [
    "sozluk=pd.Series({\"reg\":10 , \"log\":11 , \"cart\":12})"
   ]
  },
  {
   "cell_type": "code",
   "execution_count": 26,
   "id": "1150cca9-969b-42be-93bd-f39e49e58ff1",
   "metadata": {},
   "outputs": [
    {
     "data": {
      "text/plain": [
       "reg     10\n",
       "log     11\n",
       "cart    12\n",
       "dtype: int64"
      ]
     },
     "execution_count": 26,
     "metadata": {},
     "output_type": "execute_result"
    }
   ],
   "source": [
    "seri=pd.Series(sozluk)\n",
    "seri"
   ]
  },
  {
   "cell_type": "markdown",
   "id": "5f1ff78b-6c41-4330-bac9-079fd2bca01a",
   "metadata": {},
   "source": [
    "__iki seriyi birleştirerek seri oluşturma__"
   ]
  },
  {
   "cell_type": "code",
   "execution_count": 27,
   "id": "aa47892b-dbbc-430b-a436-3cebc3103f34",
   "metadata": {},
   "outputs": [
    {
     "data": {
      "text/plain": [
       "reg     10\n",
       "log     11\n",
       "cart    12\n",
       "reg     10\n",
       "log     11\n",
       "cart    12\n",
       "dtype: int64"
      ]
     },
     "execution_count": 27,
     "metadata": {},
     "output_type": "execute_result"
    }
   ],
   "source": [
    "pd.concat([seri,seri])"
   ]
  },
  {
   "cell_type": "code",
   "execution_count": 28,
   "id": "8474935e-34fa-45cc-831c-de520e8e51c1",
   "metadata": {},
   "outputs": [],
   "source": [
    "# seriler alt alta eklenir"
   ]
  },
  {
   "cell_type": "code",
   "execution_count": null,
   "id": "055bf35d-1f9e-4091-8a31-13f56ada770d",
   "metadata": {},
   "outputs": [],
   "source": []
  }
 ],
 "metadata": {
  "kernelspec": {
   "display_name": "Python 3 (ipykernel)",
   "language": "python",
   "name": "python3"
  },
  "language_info": {
   "codemirror_mode": {
    "name": "ipython",
    "version": 3
   },
   "file_extension": ".py",
   "mimetype": "text/x-python",
   "name": "python",
   "nbconvert_exporter": "python",
   "pygments_lexer": "ipython3",
   "version": "3.9.12"
  }
 },
 "nbformat": 4,
 "nbformat_minor": 5
}
