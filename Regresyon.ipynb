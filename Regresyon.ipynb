{
 "cells": [
  {
   "cell_type": "code",
   "execution_count": 95,
   "id": "32b2b875",
   "metadata": {},
   "outputs": [],
   "source": [
    "import pandas as pd\n",
    "import numpy as np\n",
    "import seaborn as sns"
   ]
  },
  {
   "cell_type": "code",
   "execution_count": 96,
   "id": "8b98234f",
   "metadata": {},
   "outputs": [],
   "source": [
    "import warnings\n",
    "warnings.filterwarnings(\"ignore\")"
   ]
  },
  {
   "cell_type": "code",
   "execution_count": 97,
   "id": "3dbaf262",
   "metadata": {},
   "outputs": [
    {
     "name": "stdout",
     "output_type": "stream",
     "text": [
      "    tecrube   maas\n",
      "0       0.5   2500\n",
      "1       0.0   2250\n",
      "2       1.0   2750\n",
      "3       5.0   8000\n",
      "4       8.0   9000\n",
      "5       4.0   6900\n",
      "6      15.0  20000\n",
      "7       7.0   8500\n",
      "8       3.0   6000\n",
      "9       2.0   3500\n",
      "10     12.0  15000\n",
      "11     10.0  13000\n",
      "12     14.0  18000\n",
      "13      6.0   7500\n"
     ]
    }
   ],
   "source": [
    "data = {\n",
    "    'tecrube': [0.5, 0, 1, 5, 8, 4, 15, 7, 3, 2, 12, 10, 14, 6],\n",
    "    'maas': [2500, 2250, 2750, 8000, 9000, 6900, 20000, 8500, 6000, 3500, 15000, 13000, 18000, 7500]\n",
    "}\n",
    "\n",
    "df = pd.DataFrame(data)\n",
    "\n",
    "print(df)\n"
   ]
  },
  {
   "cell_type": "code",
   "execution_count": 98,
   "id": "bf999580",
   "metadata": {},
   "outputs": [
    {
     "data": {
      "text/html": [
       "<div>\n",
       "<style scoped>\n",
       "    .dataframe tbody tr th:only-of-type {\n",
       "        vertical-align: middle;\n",
       "    }\n",
       "\n",
       "    .dataframe tbody tr th {\n",
       "        vertical-align: top;\n",
       "    }\n",
       "\n",
       "    .dataframe thead th {\n",
       "        text-align: right;\n",
       "    }\n",
       "</style>\n",
       "<table border=\"1\" class=\"dataframe\">\n",
       "  <thead>\n",
       "    <tr style=\"text-align: right;\">\n",
       "      <th></th>\n",
       "      <th>tecrube</th>\n",
       "      <th>maas</th>\n",
       "    </tr>\n",
       "  </thead>\n",
       "  <tbody>\n",
       "    <tr>\n",
       "      <th>0</th>\n",
       "      <td>0.5</td>\n",
       "      <td>2500</td>\n",
       "    </tr>\n",
       "    <tr>\n",
       "      <th>1</th>\n",
       "      <td>0.0</td>\n",
       "      <td>2250</td>\n",
       "    </tr>\n",
       "    <tr>\n",
       "      <th>2</th>\n",
       "      <td>1.0</td>\n",
       "      <td>2750</td>\n",
       "    </tr>\n",
       "    <tr>\n",
       "      <th>3</th>\n",
       "      <td>5.0</td>\n",
       "      <td>8000</td>\n",
       "    </tr>\n",
       "    <tr>\n",
       "      <th>4</th>\n",
       "      <td>8.0</td>\n",
       "      <td>9000</td>\n",
       "    </tr>\n",
       "  </tbody>\n",
       "</table>\n",
       "</div>"
      ],
      "text/plain": [
       "   tecrube  maas\n",
       "0      0.5  2500\n",
       "1      0.0  2250\n",
       "2      1.0  2750\n",
       "3      5.0  8000\n",
       "4      8.0  9000"
      ]
     },
     "execution_count": 98,
     "metadata": {},
     "output_type": "execute_result"
    }
   ],
   "source": [
    "df.head()"
   ]
  },
  {
   "cell_type": "code",
   "execution_count": 99,
   "id": "0bf2518e",
   "metadata": {},
   "outputs": [
    {
     "data": {
      "text/plain": [
       "(14, 2)"
      ]
     },
     "execution_count": 99,
     "metadata": {},
     "output_type": "execute_result"
    }
   ],
   "source": [
    "df.shape"
   ]
  },
  {
   "cell_type": "code",
   "execution_count": 100,
   "id": "2bb1a004",
   "metadata": {},
   "outputs": [
    {
     "name": "stdout",
     "output_type": "stream",
     "text": [
      "<class 'pandas.core.frame.DataFrame'>\n",
      "RangeIndex: 14 entries, 0 to 13\n",
      "Data columns (total 2 columns):\n",
      " #   Column   Non-Null Count  Dtype  \n",
      "---  ------   --------------  -----  \n",
      " 0   tecrube  14 non-null     float64\n",
      " 1   maas     14 non-null     int64  \n",
      "dtypes: float64(1), int64(1)\n",
      "memory usage: 352.0 bytes\n"
     ]
    }
   ],
   "source": [
    "df.info()"
   ]
  },
  {
   "cell_type": "code",
   "execution_count": 101,
   "id": "6a05a20e",
   "metadata": {},
   "outputs": [
    {
     "data": {
      "text/html": [
       "<div>\n",
       "<style scoped>\n",
       "    .dataframe tbody tr th:only-of-type {\n",
       "        vertical-align: middle;\n",
       "    }\n",
       "\n",
       "    .dataframe tbody tr th {\n",
       "        vertical-align: top;\n",
       "    }\n",
       "\n",
       "    .dataframe thead th {\n",
       "        text-align: right;\n",
       "    }\n",
       "</style>\n",
       "<table border=\"1\" class=\"dataframe\">\n",
       "  <thead>\n",
       "    <tr style=\"text-align: right;\">\n",
       "      <th></th>\n",
       "      <th>count</th>\n",
       "      <th>mean</th>\n",
       "      <th>std</th>\n",
       "      <th>min</th>\n",
       "      <th>25%</th>\n",
       "      <th>50%</th>\n",
       "      <th>75%</th>\n",
       "      <th>max</th>\n",
       "    </tr>\n",
       "  </thead>\n",
       "  <tbody>\n",
       "    <tr>\n",
       "      <th>tecrube</th>\n",
       "      <td>14.0</td>\n",
       "      <td>6.250000</td>\n",
       "      <td>4.979767</td>\n",
       "      <td>0.0</td>\n",
       "      <td>2.25</td>\n",
       "      <td>5.5</td>\n",
       "      <td>9.5</td>\n",
       "      <td>15.0</td>\n",
       "    </tr>\n",
       "    <tr>\n",
       "      <th>maas</th>\n",
       "      <td>14.0</td>\n",
       "      <td>8778.571429</td>\n",
       "      <td>5733.495185</td>\n",
       "      <td>2250.0</td>\n",
       "      <td>4125.00</td>\n",
       "      <td>7750.0</td>\n",
       "      <td>12000.0</td>\n",
       "      <td>20000.0</td>\n",
       "    </tr>\n",
       "  </tbody>\n",
       "</table>\n",
       "</div>"
      ],
      "text/plain": [
       "         count         mean          std     min      25%     50%      75%  \\\n",
       "tecrube   14.0     6.250000     4.979767     0.0     2.25     5.5      9.5   \n",
       "maas      14.0  8778.571429  5733.495185  2250.0  4125.00  7750.0  12000.0   \n",
       "\n",
       "             max  \n",
       "tecrube     15.0  \n",
       "maas     20000.0  "
      ]
     },
     "execution_count": 101,
     "metadata": {},
     "output_type": "execute_result"
    }
   ],
   "source": [
    "#istatiksel değerleri görüntüleme\n",
    "df.describe().T"
   ]
  },
  {
   "cell_type": "code",
   "execution_count": 102,
   "id": "a01a45be",
   "metadata": {},
   "outputs": [
    {
     "data": {
      "image/png": "[encoded data removed]",
      "text/plain": [
       "<Figure size 720x504 with 1 Axes>"
      ]
     },
     "metadata": {},
     "output_type": "display_data"
    }
   ],
   "source": [
    "sns.set(rc={\"figure.figsize\":(10,7)})\n",
    "sns.scatterplot(x=df[\"maas\"] , y= df[\"tecrube\"]);"
   ]
  },
  {
   "cell_type": "code",
   "execution_count": 103,
   "id": "b08adf9b",
   "metadata": {},
   "outputs": [
    {
     "data": {
      "text/html": [
       "<div>\n",
       "<style scoped>\n",
       "    .dataframe tbody tr th:only-of-type {\n",
       "        vertical-align: middle;\n",
       "    }\n",
       "\n",
       "    .dataframe tbody tr th {\n",
       "        vertical-align: top;\n",
       "    }\n",
       "\n",
       "    .dataframe thead th {\n",
       "        text-align: right;\n",
       "    }\n",
       "</style>\n",
       "<table border=\"1\" class=\"dataframe\">\n",
       "  <thead>\n",
       "    <tr style=\"text-align: right;\">\n",
       "      <th></th>\n",
       "      <th>tecrube</th>\n",
       "      <th>maas</th>\n",
       "    </tr>\n",
       "  </thead>\n",
       "  <tbody>\n",
       "    <tr>\n",
       "      <th>tecrube</th>\n",
       "      <td>1.0000</td>\n",
       "      <td>0.9887</td>\n",
       "    </tr>\n",
       "    <tr>\n",
       "      <th>maas</th>\n",
       "      <td>0.9887</td>\n",
       "      <td>1.0000</td>\n",
       "    </tr>\n",
       "  </tbody>\n",
       "</table>\n",
       "</div>"
      ],
      "text/plain": [
       "         tecrube    maas\n",
       "tecrube   1.0000  0.9887\n",
       "maas      0.9887  1.0000"
      ]
     },
     "execution_count": 103,
     "metadata": {},
     "output_type": "execute_result"
    }
   ],
   "source": [
    "df.corr()"
   ]
  },
  {
   "cell_type": "code",
   "execution_count": 104,
   "id": "2996bece",
   "metadata": {},
   "outputs": [
    {
     "data": {
      "image/png": "[encoded data removed]",
      "text/plain": [
       "<Figure size 720x504 with 1 Axes>"
      ]
     },
     "metadata": {},
     "output_type": "display_data"
    }
   ],
   "source": [
    "sns.lineplot(x=df[\"maas\"] , y=df[\"tecrube\"]);"
   ]
  },
  {
   "cell_type": "code",
   "execution_count": 105,
   "id": "1625bc35",
   "metadata": {},
   "outputs": [
    {
     "data": {
      "image/png": "[encoded data removed]",
      "text/plain": [
       "<Figure size 720x504 with 1 Axes>"
      ]
     },
     "metadata": {},
     "output_type": "display_data"
    }
   ],
   "source": [
    "sns.regplot(x=df[\"maas\"] , y=df[\"tecrube\"] , ci=None);"
   ]
  },
  {
   "cell_type": "code",
   "execution_count": 106,
   "id": "cc040604",
   "metadata": {},
   "outputs": [],
   "source": [
    "from sklearn.linear_model import LinearRegression\n",
    "linear_regresyon = LinearRegression()"
   ]
  },
  {
   "cell_type": "code",
   "execution_count": 107,
   "id": "270fabf2",
   "metadata": {},
   "outputs": [],
   "source": [
    "X = df.drop(\"maas\" , axis=1)"
   ]
  },
  {
   "cell_type": "code",
   "execution_count": 108,
   "id": "4eda83e5",
   "metadata": {},
   "outputs": [],
   "source": [
    "y = df[\"maas\"]"
   ]
  },
  {
   "cell_type": "code",
   "execution_count": 109,
   "id": "b25e0d15",
   "metadata": {},
   "outputs": [
    {
     "data": {
      "text/html": [
       "<div>\n",
       "<style scoped>\n",
       "    .dataframe tbody tr th:only-of-type {\n",
       "        vertical-align: middle;\n",
       "    }\n",
       "\n",
       "    .dataframe tbody tr th {\n",
       "        vertical-align: top;\n",
       "    }\n",
       "\n",
       "    .dataframe thead th {\n",
       "        text-align: right;\n",
       "    }\n",
       "</style>\n",
       "<table border=\"1\" class=\"dataframe\">\n",
       "  <thead>\n",
       "    <tr style=\"text-align: right;\">\n",
       "      <th></th>\n",
       "      <th>tecrube</th>\n",
       "    </tr>\n",
       "  </thead>\n",
       "  <tbody>\n",
       "    <tr>\n",
       "      <th>0</th>\n",
       "      <td>0.5</td>\n",
       "    </tr>\n",
       "    <tr>\n",
       "      <th>1</th>\n",
       "      <td>0.0</td>\n",
       "    </tr>\n",
       "    <tr>\n",
       "      <th>2</th>\n",
       "      <td>1.0</td>\n",
       "    </tr>\n",
       "    <tr>\n",
       "      <th>3</th>\n",
       "      <td>5.0</td>\n",
       "    </tr>\n",
       "    <tr>\n",
       "      <th>4</th>\n",
       "      <td>8.0</td>\n",
       "    </tr>\n",
       "    <tr>\n",
       "      <th>5</th>\n",
       "      <td>4.0</td>\n",
       "    </tr>\n",
       "    <tr>\n",
       "      <th>6</th>\n",
       "      <td>15.0</td>\n",
       "    </tr>\n",
       "    <tr>\n",
       "      <th>7</th>\n",
       "      <td>7.0</td>\n",
       "    </tr>\n",
       "    <tr>\n",
       "      <th>8</th>\n",
       "      <td>3.0</td>\n",
       "    </tr>\n",
       "    <tr>\n",
       "      <th>9</th>\n",
       "      <td>2.0</td>\n",
       "    </tr>\n",
       "    <tr>\n",
       "      <th>10</th>\n",
       "      <td>12.0</td>\n",
       "    </tr>\n",
       "    <tr>\n",
       "      <th>11</th>\n",
       "      <td>10.0</td>\n",
       "    </tr>\n",
       "    <tr>\n",
       "      <th>12</th>\n",
       "      <td>14.0</td>\n",
       "    </tr>\n",
       "    <tr>\n",
       "      <th>13</th>\n",
       "      <td>6.0</td>\n",
       "    </tr>\n",
       "  </tbody>\n",
       "</table>\n",
       "</div>"
      ],
      "text/plain": [
       "    tecrube\n",
       "0       0.5\n",
       "1       0.0\n",
       "2       1.0\n",
       "3       5.0\n",
       "4       8.0\n",
       "5       4.0\n",
       "6      15.0\n",
       "7       7.0\n",
       "8       3.0\n",
       "9       2.0\n",
       "10     12.0\n",
       "11     10.0\n",
       "12     14.0\n",
       "13      6.0"
      ]
     },
     "execution_count": 109,
     "metadata": {},
     "output_type": "execute_result"
    }
   ],
   "source": [
    "X"
   ]
  },
  {
   "cell_type": "code",
   "execution_count": 110,
   "id": "db464d1f",
   "metadata": {},
   "outputs": [
    {
     "data": {
      "text/plain": [
       "0      2500\n",
       "1      2250\n",
       "2      2750\n",
       "3      8000\n",
       "4      9000\n",
       "5      6900\n",
       "6     20000\n",
       "7      8500\n",
       "8      6000\n",
       "9      3500\n",
       "10    15000\n",
       "11    13000\n",
       "12    18000\n",
       "13     7500\n",
       "Name: maas, dtype: int64"
      ]
     },
     "execution_count": 110,
     "metadata": {},
     "output_type": "execute_result"
    }
   ],
   "source": [
    "y"
   ]
  },
  {
   "cell_type": "code",
   "execution_count": 111,
   "id": "93823dff",
   "metadata": {},
   "outputs": [
    {
     "data": {
      "text/plain": [
       "LinearRegression()"
      ]
     },
     "execution_count": 111,
     "metadata": {},
     "output_type": "execute_result"
    }
   ],
   "source": [
    "linear_regresyon.fit(X,y)"
   ]
  },
  {
   "cell_type": "code",
   "execution_count": 112,
   "id": "e214e847",
   "metadata": {},
   "outputs": [
    {
     "data": {
      "text/plain": [
       "array([5078.9397884])"
      ]
     },
     "execution_count": 112,
     "metadata": {},
     "output_type": "execute_result"
    }
   ],
   "source": [
    "linear_regresyon.predict([[3]])"
   ]
  },
  {
   "cell_type": "code",
   "execution_count": 113,
   "id": "1d3975e7",
   "metadata": {},
   "outputs": [
    {
     "data": {
      "text/plain": [
       "['__abstractmethods__',\n",
       " '__class__',\n",
       " '__delattr__',\n",
       " '__dict__',\n",
       " '__dir__',\n",
       " '__doc__',\n",
       " '__eq__',\n",
       " '__format__',\n",
       " '__ge__',\n",
       " '__getattribute__',\n",
       " '__getstate__',\n",
       " '__gt__',\n",
       " '__hash__',\n",
       " '__init__',\n",
       " '__init_subclass__',\n",
       " '__le__',\n",
       " '__lt__',\n",
       " '__module__',\n",
       " '__ne__',\n",
       " '__new__',\n",
       " '__reduce__',\n",
       " '__reduce_ex__',\n",
       " '__repr__',\n",
       " '__setattr__',\n",
       " '__setstate__',\n",
       " '__sizeof__',\n",
       " '__str__',\n",
       " '__subclasshook__',\n",
       " '__weakref__',\n",
       " '_abc_impl',\n",
       " '_check_feature_names',\n",
       " '_check_n_features',\n",
       " '_decision_function',\n",
       " '_estimator_type',\n",
       " '_get_param_names',\n",
       " '_get_tags',\n",
       " '_more_tags',\n",
       " '_preprocess_data',\n",
       " '_repr_html_',\n",
       " '_repr_html_inner',\n",
       " '_repr_mimebundle_',\n",
       " '_residues',\n",
       " '_set_intercept',\n",
       " '_validate_data',\n",
       " 'coef_',\n",
       " 'copy_X',\n",
       " 'feature_names_in_',\n",
       " 'fit',\n",
       " 'fit_intercept',\n",
       " 'get_params',\n",
       " 'intercept_',\n",
       " 'n_features_in_',\n",
       " 'n_jobs',\n",
       " 'normalize',\n",
       " 'positive',\n",
       " 'predict',\n",
       " 'rank_',\n",
       " 'score',\n",
       " 'set_params',\n",
       " 'singular_']"
      ]
     },
     "execution_count": 113,
     "metadata": {},
     "output_type": "execute_result"
    }
   ],
   "source": [
    "dir(linear_regresyon)"
   ]
  },
  {
   "cell_type": "markdown",
   "id": "5e2e3d76",
   "metadata": {},
   "source": [
    "## y=ax+b"
   ]
  },
  {
   "cell_type": "code",
   "execution_count": 114,
   "id": "b4aa56a9",
   "metadata": {},
   "outputs": [
    {
     "data": {
      "text/plain": [
       "array([1138.34819698])"
      ]
     },
     "execution_count": 114,
     "metadata": {},
     "output_type": "execute_result"
    }
   ],
   "source": [
    "#a\n",
    "linear_regresyon.coef_"
   ]
  },
  {
   "cell_type": "code",
   "execution_count": 115,
   "id": "3c2a86a9",
   "metadata": {},
   "outputs": [
    {
     "data": {
      "text/plain": [
       "3415.04459094"
      ]
     },
     "execution_count": 115,
     "metadata": {},
     "output_type": "execute_result"
    }
   ],
   "source": [
    "3*1138.34819698"
   ]
  },
  {
   "cell_type": "code",
   "execution_count": 116,
   "id": "889d2e36",
   "metadata": {},
   "outputs": [
    {
     "data": {
      "text/plain": [
       "1663.895197474103"
      ]
     },
     "execution_count": 116,
     "metadata": {},
     "output_type": "execute_result"
    }
   ],
   "source": [
    "#b\n",
    "linear_regresyon.intercept_"
   ]
  },
  {
   "cell_type": "code",
   "execution_count": 117,
   "id": "9d1e7946",
   "metadata": {},
   "outputs": [
    {
     "data": {
      "text/plain": [
       "5078.9397884141035"
      ]
     },
     "execution_count": 117,
     "metadata": {},
     "output_type": "execute_result"
    }
   ],
   "source": [
    "3415.04459094 + 1663.895197474103\n"
   ]
  },
  {
   "cell_type": "code",
   "execution_count": 118,
   "id": "8bf1e835",
   "metadata": {},
   "outputs": [],
   "source": [
    "# y = 1138.34819698 * x + 1663.895197474103"
   ]
  },
  {
   "cell_type": "code",
   "execution_count": 119,
   "id": "69fd4d89",
   "metadata": {},
   "outputs": [],
   "source": [
    "katsayi = linear_regresyon.coef_\n",
    "sabit = linear_regresyon.intercept_\n",
    "\n",
    "def maasTahmin(tecrube):\n",
    "    maas = tecrube*katsayi+sabit\n",
    "    return maas"
   ]
  },
  {
   "cell_type": "code",
   "execution_count": 120,
   "id": "9212a567",
   "metadata": {},
   "outputs": [
    {
     "data": {
      "text/plain": [
       "array([7355.63618235])"
      ]
     },
     "execution_count": 120,
     "metadata": {},
     "output_type": "execute_result"
    }
   ],
   "source": [
    "maasTahmin(5)"
   ]
  },
  {
   "cell_type": "code",
   "execution_count": 121,
   "id": "8921589d",
   "metadata": {},
   "outputs": [
    {
     "data": {
      "text/plain": [
       "array([7355.63618235])"
      ]
     },
     "execution_count": 121,
     "metadata": {},
     "output_type": "execute_result"
    }
   ],
   "source": [
    "linear_regresyon.predict([[5]])"
   ]
  },
  {
   "cell_type": "code",
   "execution_count": 122,
   "id": "cc8d6573",
   "metadata": {},
   "outputs": [
    {
     "data": {
      "text/html": [
       "<div>\n",
       "<style scoped>\n",
       "    .dataframe tbody tr th:only-of-type {\n",
       "        vertical-align: middle;\n",
       "    }\n",
       "\n",
       "    .dataframe tbody tr th {\n",
       "        vertical-align: top;\n",
       "    }\n",
       "\n",
       "    .dataframe thead th {\n",
       "        text-align: right;\n",
       "    }\n",
       "</style>\n",
       "<table border=\"1\" class=\"dataframe\">\n",
       "  <thead>\n",
       "    <tr style=\"text-align: right;\">\n",
       "      <th></th>\n",
       "      <th>tecrube</th>\n",
       "      <th>maas</th>\n",
       "      <th>tahminMaas</th>\n",
       "    </tr>\n",
       "  </thead>\n",
       "  <tbody>\n",
       "    <tr>\n",
       "      <th>0</th>\n",
       "      <td>0.5</td>\n",
       "      <td>2500</td>\n",
       "      <td>2233.069296</td>\n",
       "    </tr>\n",
       "    <tr>\n",
       "      <th>1</th>\n",
       "      <td>0.0</td>\n",
       "      <td>2250</td>\n",
       "      <td>1663.895197</td>\n",
       "    </tr>\n",
       "    <tr>\n",
       "      <th>2</th>\n",
       "      <td>1.0</td>\n",
       "      <td>2750</td>\n",
       "      <td>2802.243394</td>\n",
       "    </tr>\n",
       "    <tr>\n",
       "      <th>3</th>\n",
       "      <td>5.0</td>\n",
       "      <td>8000</td>\n",
       "      <td>7355.636182</td>\n",
       "    </tr>\n",
       "    <tr>\n",
       "      <th>4</th>\n",
       "      <td>8.0</td>\n",
       "      <td>9000</td>\n",
       "      <td>10770.680773</td>\n",
       "    </tr>\n",
       "    <tr>\n",
       "      <th>5</th>\n",
       "      <td>4.0</td>\n",
       "      <td>6900</td>\n",
       "      <td>6217.287985</td>\n",
       "    </tr>\n",
       "    <tr>\n",
       "      <th>6</th>\n",
       "      <td>15.0</td>\n",
       "      <td>20000</td>\n",
       "      <td>18739.118152</td>\n",
       "    </tr>\n",
       "    <tr>\n",
       "      <th>7</th>\n",
       "      <td>7.0</td>\n",
       "      <td>8500</td>\n",
       "      <td>9632.332576</td>\n",
       "    </tr>\n",
       "    <tr>\n",
       "      <th>8</th>\n",
       "      <td>3.0</td>\n",
       "      <td>6000</td>\n",
       "      <td>5078.939788</td>\n",
       "    </tr>\n",
       "    <tr>\n",
       "      <th>9</th>\n",
       "      <td>2.0</td>\n",
       "      <td>3500</td>\n",
       "      <td>3940.591591</td>\n",
       "    </tr>\n",
       "    <tr>\n",
       "      <th>10</th>\n",
       "      <td>12.0</td>\n",
       "      <td>15000</td>\n",
       "      <td>15324.073561</td>\n",
       "    </tr>\n",
       "    <tr>\n",
       "      <th>11</th>\n",
       "      <td>10.0</td>\n",
       "      <td>13000</td>\n",
       "      <td>13047.377167</td>\n",
       "    </tr>\n",
       "    <tr>\n",
       "      <th>12</th>\n",
       "      <td>14.0</td>\n",
       "      <td>18000</td>\n",
       "      <td>17600.769955</td>\n",
       "    </tr>\n",
       "    <tr>\n",
       "      <th>13</th>\n",
       "      <td>6.0</td>\n",
       "      <td>7500</td>\n",
       "      <td>8493.984379</td>\n",
       "    </tr>\n",
       "  </tbody>\n",
       "</table>\n",
       "</div>"
      ],
      "text/plain": [
       "    tecrube   maas    tahminMaas\n",
       "0       0.5   2500   2233.069296\n",
       "1       0.0   2250   1663.895197\n",
       "2       1.0   2750   2802.243394\n",
       "3       5.0   8000   7355.636182\n",
       "4       8.0   9000  10770.680773\n",
       "5       4.0   6900   6217.287985\n",
       "6      15.0  20000  18739.118152\n",
       "7       7.0   8500   9632.332576\n",
       "8       3.0   6000   5078.939788\n",
       "9       2.0   3500   3940.591591\n",
       "10     12.0  15000  15324.073561\n",
       "11     10.0  13000  13047.377167\n",
       "12     14.0  18000  17600.769955\n",
       "13      6.0   7500   8493.984379"
      ]
     },
     "execution_count": 122,
     "metadata": {},
     "output_type": "execute_result"
    }
   ],
   "source": [
    "df[\"tahminMaas\"] = linear_regresyon.predict(X)\n",
    "df"
   ]
  },
  {
   "cell_type": "code",
   "execution_count": 123,
   "id": "535eb066",
   "metadata": {},
   "outputs": [],
   "source": [
    "df[\"maas_tahminMaas_fark\"] = df[\"maas\"] - df[\"tahminMaas\"]"
   ]
  },
  {
   "cell_type": "code",
   "execution_count": 124,
   "id": "ebf5e246",
   "metadata": {},
   "outputs": [
    {
     "data": {
      "text/html": [
       "<div>\n",
       "<style scoped>\n",
       "    .dataframe tbody tr th:only-of-type {\n",
       "        vertical-align: middle;\n",
       "    }\n",
       "\n",
       "    .dataframe tbody tr th {\n",
       "        vertical-align: top;\n",
       "    }\n",
       "\n",
       "    .dataframe thead th {\n",
       "        text-align: right;\n",
       "    }\n",
       "</style>\n",
       "<table border=\"1\" class=\"dataframe\">\n",
       "  <thead>\n",
       "    <tr style=\"text-align: right;\">\n",
       "      <th></th>\n",
       "      <th>tecrube</th>\n",
       "      <th>maas</th>\n",
       "      <th>tahminMaas</th>\n",
       "      <th>maas_tahminMaas_fark</th>\n",
       "    </tr>\n",
       "  </thead>\n",
       "  <tbody>\n",
       "    <tr>\n",
       "      <th>0</th>\n",
       "      <td>0.5</td>\n",
       "      <td>2500</td>\n",
       "      <td>2233.069296</td>\n",
       "      <td>266.930704</td>\n",
       "    </tr>\n",
       "    <tr>\n",
       "      <th>1</th>\n",
       "      <td>0.0</td>\n",
       "      <td>2250</td>\n",
       "      <td>1663.895197</td>\n",
       "      <td>586.104803</td>\n",
       "    </tr>\n",
       "    <tr>\n",
       "      <th>2</th>\n",
       "      <td>1.0</td>\n",
       "      <td>2750</td>\n",
       "      <td>2802.243394</td>\n",
       "      <td>-52.243394</td>\n",
       "    </tr>\n",
       "    <tr>\n",
       "      <th>3</th>\n",
       "      <td>5.0</td>\n",
       "      <td>8000</td>\n",
       "      <td>7355.636182</td>\n",
       "      <td>644.363818</td>\n",
       "    </tr>\n",
       "    <tr>\n",
       "      <th>4</th>\n",
       "      <td>8.0</td>\n",
       "      <td>9000</td>\n",
       "      <td>10770.680773</td>\n",
       "      <td>-1770.680773</td>\n",
       "    </tr>\n",
       "    <tr>\n",
       "      <th>5</th>\n",
       "      <td>4.0</td>\n",
       "      <td>6900</td>\n",
       "      <td>6217.287985</td>\n",
       "      <td>682.712015</td>\n",
       "    </tr>\n",
       "    <tr>\n",
       "      <th>6</th>\n",
       "      <td>15.0</td>\n",
       "      <td>20000</td>\n",
       "      <td>18739.118152</td>\n",
       "      <td>1260.881848</td>\n",
       "    </tr>\n",
       "    <tr>\n",
       "      <th>7</th>\n",
       "      <td>7.0</td>\n",
       "      <td>8500</td>\n",
       "      <td>9632.332576</td>\n",
       "      <td>-1132.332576</td>\n",
       "    </tr>\n",
       "    <tr>\n",
       "      <th>8</th>\n",
       "      <td>3.0</td>\n",
       "      <td>6000</td>\n",
       "      <td>5078.939788</td>\n",
       "      <td>921.060212</td>\n",
       "    </tr>\n",
       "    <tr>\n",
       "      <th>9</th>\n",
       "      <td>2.0</td>\n",
       "      <td>3500</td>\n",
       "      <td>3940.591591</td>\n",
       "      <td>-440.591591</td>\n",
       "    </tr>\n",
       "    <tr>\n",
       "      <th>10</th>\n",
       "      <td>12.0</td>\n",
       "      <td>15000</td>\n",
       "      <td>15324.073561</td>\n",
       "      <td>-324.073561</td>\n",
       "    </tr>\n",
       "    <tr>\n",
       "      <th>11</th>\n",
       "      <td>10.0</td>\n",
       "      <td>13000</td>\n",
       "      <td>13047.377167</td>\n",
       "      <td>-47.377167</td>\n",
       "    </tr>\n",
       "    <tr>\n",
       "      <th>12</th>\n",
       "      <td>14.0</td>\n",
       "      <td>18000</td>\n",
       "      <td>17600.769955</td>\n",
       "      <td>399.230045</td>\n",
       "    </tr>\n",
       "    <tr>\n",
       "      <th>13</th>\n",
       "      <td>6.0</td>\n",
       "      <td>7500</td>\n",
       "      <td>8493.984379</td>\n",
       "      <td>-993.984379</td>\n",
       "    </tr>\n",
       "  </tbody>\n",
       "</table>\n",
       "</div>"
      ],
      "text/plain": [
       "    tecrube   maas    tahminMaas  maas_tahminMaas_fark\n",
       "0       0.5   2500   2233.069296            266.930704\n",
       "1       0.0   2250   1663.895197            586.104803\n",
       "2       1.0   2750   2802.243394            -52.243394\n",
       "3       5.0   8000   7355.636182            644.363818\n",
       "4       8.0   9000  10770.680773          -1770.680773\n",
       "5       4.0   6900   6217.287985            682.712015\n",
       "6      15.0  20000  18739.118152           1260.881848\n",
       "7       7.0   8500   9632.332576          -1132.332576\n",
       "8       3.0   6000   5078.939788            921.060212\n",
       "9       2.0   3500   3940.591591           -440.591591\n",
       "10     12.0  15000  15324.073561           -324.073561\n",
       "11     10.0  13000  13047.377167            -47.377167\n",
       "12     14.0  18000  17600.769955            399.230045\n",
       "13      6.0   7500   8493.984379           -993.984379"
      ]
     },
     "execution_count": 124,
     "metadata": {},
     "output_type": "execute_result"
    }
   ],
   "source": [
    "df"
   ]
  },
  {
   "cell_type": "code",
   "execution_count": 125,
   "id": "02deb7f7",
   "metadata": {},
   "outputs": [],
   "source": [
    "df[\"farkınKaresi\"] = df[\"maas_tahminMaas_fark\"]**2"
   ]
  },
  {
   "cell_type": "code",
   "execution_count": 126,
   "id": "94e35aa4",
   "metadata": {},
   "outputs": [
    {
     "data": {
      "text/plain": [
       "685945.8459614947"
      ]
     },
     "execution_count": 126,
     "metadata": {},
     "output_type": "execute_result"
    }
   ],
   "source": [
    "df[\"farkınKaresi\"] .sum()/14"
   ]
  },
  {
   "cell_type": "code",
   "execution_count": 127,
   "id": "5045065f",
   "metadata": {},
   "outputs": [
    {
     "data": {
      "text/plain": [
       "685945.8459614947"
      ]
     },
     "execution_count": 127,
     "metadata": {},
     "output_type": "execute_result"
    }
   ],
   "source": [
    "#MSE\n",
    "from sklearn.metrics import mean_squared_error\n",
    "\n",
    "MSE = mean_squared_error(df[\"maas\"] , df[\"tahminMaas\"])\n",
    "MSE"
   ]
  },
  {
   "cell_type": "code",
   "execution_count": 128,
   "id": "0f5fb66e",
   "metadata": {},
   "outputs": [
    {
     "data": {
      "text/plain": [
       "828.2184771915528"
      ]
     },
     "execution_count": 128,
     "metadata": {},
     "output_type": "execute_result"
    }
   ],
   "source": [
    "#RMSE\n",
    "\n",
    "import math\n",
    "\n",
    "RMSE = math.sqrt(MSE)\n",
    "RMSE"
   ]
  },
  {
   "cell_type": "code",
   "execution_count": 129,
   "id": "e3e3c87c",
   "metadata": {},
   "outputs": [
    {
     "data": {
      "text/plain": [
       "680.1833490278625"
      ]
     },
     "execution_count": 129,
     "metadata": {},
     "output_type": "execute_result"
    }
   ],
   "source": [
    "from sklearn.metrics import mean_absolute_error\n",
    "\n",
    "MAE = mean_absolute_error(df[\"maas\"] , df[\"tahminMaas\"])\n",
    "MAE"
   ]
  },
  {
   "cell_type": "code",
   "execution_count": 130,
   "id": "9c6c51fd",
   "metadata": {},
   "outputs": [
    {
     "data": {
      "text/html": [
       "<div>\n",
       "<style scoped>\n",
       "    .dataframe tbody tr th:only-of-type {\n",
       "        vertical-align: middle;\n",
       "    }\n",
       "\n",
       "    .dataframe tbody tr th {\n",
       "        vertical-align: top;\n",
       "    }\n",
       "\n",
       "    .dataframe thead th {\n",
       "        text-align: right;\n",
       "    }\n",
       "</style>\n",
       "<table border=\"1\" class=\"dataframe\">\n",
       "  <thead>\n",
       "    <tr style=\"text-align: right;\">\n",
       "      <th></th>\n",
       "      <th>tecrube</th>\n",
       "      <th>maas</th>\n",
       "      <th>tahminMaas</th>\n",
       "      <th>maas_tahminMaas_fark</th>\n",
       "      <th>farkınKaresi</th>\n",
       "    </tr>\n",
       "  </thead>\n",
       "  <tbody>\n",
       "    <tr>\n",
       "      <th>0</th>\n",
       "      <td>0.5</td>\n",
       "      <td>2500</td>\n",
       "      <td>2233.069296</td>\n",
       "      <td>266.930704</td>\n",
       "      <td>7.125200e+04</td>\n",
       "    </tr>\n",
       "    <tr>\n",
       "      <th>1</th>\n",
       "      <td>0.0</td>\n",
       "      <td>2250</td>\n",
       "      <td>1663.895197</td>\n",
       "      <td>586.104803</td>\n",
       "      <td>3.435188e+05</td>\n",
       "    </tr>\n",
       "    <tr>\n",
       "      <th>2</th>\n",
       "      <td>1.0</td>\n",
       "      <td>2750</td>\n",
       "      <td>2802.243394</td>\n",
       "      <td>-52.243394</td>\n",
       "      <td>2.729372e+03</td>\n",
       "    </tr>\n",
       "    <tr>\n",
       "      <th>3</th>\n",
       "      <td>5.0</td>\n",
       "      <td>8000</td>\n",
       "      <td>7355.636182</td>\n",
       "      <td>644.363818</td>\n",
       "      <td>4.152047e+05</td>\n",
       "    </tr>\n",
       "    <tr>\n",
       "      <th>4</th>\n",
       "      <td>8.0</td>\n",
       "      <td>9000</td>\n",
       "      <td>10770.680773</td>\n",
       "      <td>-1770.680773</td>\n",
       "      <td>3.135310e+06</td>\n",
       "    </tr>\n",
       "    <tr>\n",
       "      <th>5</th>\n",
       "      <td>4.0</td>\n",
       "      <td>6900</td>\n",
       "      <td>6217.287985</td>\n",
       "      <td>682.712015</td>\n",
       "      <td>4.660957e+05</td>\n",
       "    </tr>\n",
       "    <tr>\n",
       "      <th>6</th>\n",
       "      <td>15.0</td>\n",
       "      <td>20000</td>\n",
       "      <td>18739.118152</td>\n",
       "      <td>1260.881848</td>\n",
       "      <td>1.589823e+06</td>\n",
       "    </tr>\n",
       "    <tr>\n",
       "      <th>7</th>\n",
       "      <td>7.0</td>\n",
       "      <td>8500</td>\n",
       "      <td>9632.332576</td>\n",
       "      <td>-1132.332576</td>\n",
       "      <td>1.282177e+06</td>\n",
       "    </tr>\n",
       "    <tr>\n",
       "      <th>8</th>\n",
       "      <td>3.0</td>\n",
       "      <td>6000</td>\n",
       "      <td>5078.939788</td>\n",
       "      <td>921.060212</td>\n",
       "      <td>8.483519e+05</td>\n",
       "    </tr>\n",
       "    <tr>\n",
       "      <th>9</th>\n",
       "      <td>2.0</td>\n",
       "      <td>3500</td>\n",
       "      <td>3940.591591</td>\n",
       "      <td>-440.591591</td>\n",
       "      <td>1.941210e+05</td>\n",
       "    </tr>\n",
       "    <tr>\n",
       "      <th>10</th>\n",
       "      <td>12.0</td>\n",
       "      <td>15000</td>\n",
       "      <td>15324.073561</td>\n",
       "      <td>-324.073561</td>\n",
       "      <td>1.050237e+05</td>\n",
       "    </tr>\n",
       "    <tr>\n",
       "      <th>11</th>\n",
       "      <td>10.0</td>\n",
       "      <td>13000</td>\n",
       "      <td>13047.377167</td>\n",
       "      <td>-47.377167</td>\n",
       "      <td>2.244596e+03</td>\n",
       "    </tr>\n",
       "    <tr>\n",
       "      <th>12</th>\n",
       "      <td>14.0</td>\n",
       "      <td>18000</td>\n",
       "      <td>17600.769955</td>\n",
       "      <td>399.230045</td>\n",
       "      <td>1.593846e+05</td>\n",
       "    </tr>\n",
       "    <tr>\n",
       "      <th>13</th>\n",
       "      <td>6.0</td>\n",
       "      <td>7500</td>\n",
       "      <td>8493.984379</td>\n",
       "      <td>-993.984379</td>\n",
       "      <td>9.880049e+05</td>\n",
       "    </tr>\n",
       "  </tbody>\n",
       "</table>\n",
       "</div>"
      ],
      "text/plain": [
       "    tecrube   maas    tahminMaas  maas_tahminMaas_fark  farkınKaresi\n",
       "0       0.5   2500   2233.069296            266.930704  7.125200e+04\n",
       "1       0.0   2250   1663.895197            586.104803  3.435188e+05\n",
       "2       1.0   2750   2802.243394            -52.243394  2.729372e+03\n",
       "3       5.0   8000   7355.636182            644.363818  4.152047e+05\n",
       "4       8.0   9000  10770.680773          -1770.680773  3.135310e+06\n",
       "5       4.0   6900   6217.287985            682.712015  4.660957e+05\n",
       "6      15.0  20000  18739.118152           1260.881848  1.589823e+06\n",
       "7       7.0   8500   9632.332576          -1132.332576  1.282177e+06\n",
       "8       3.0   6000   5078.939788            921.060212  8.483519e+05\n",
       "9       2.0   3500   3940.591591           -440.591591  1.941210e+05\n",
       "10     12.0  15000  15324.073561           -324.073561  1.050237e+05\n",
       "11     10.0  13000  13047.377167            -47.377167  2.244596e+03\n",
       "12     14.0  18000  17600.769955            399.230045  1.593846e+05\n",
       "13      6.0   7500   8493.984379           -993.984379  9.880049e+05"
      ]
     },
     "execution_count": 130,
     "metadata": {},
     "output_type": "execute_result"
    }
   ],
   "source": [
    "df"
   ]
  },
  {
   "cell_type": "code",
   "execution_count": null,
   "id": "f37dd222",
   "metadata": {},
   "outputs": [],
   "source": []
  }
 ],
 "metadata": {
  "kernelspec": {
   "display_name": "Python 3 (ipykernel)",
   "language": "python",
   "name": "python3"
  },
  "language_info": {
   "codemirror_mode": {
    "name": "ipython",
    "version": 3
   },
   "file_extension": ".py",
   "mimetype": "text/x-python",
   "name": "python",
   "nbconvert_exporter": "python",
   "pygments_lexer": "ipython3",
   "version": "3.9.12"
  }
 },
 "nbformat": 4,
 "nbformat_minor": 5
}
